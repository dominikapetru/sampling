{
 "cells": [
  {
   "cell_type": "markdown",
   "id": "9e96fa37-4e12-41d3-8d38-1d891ac24a47",
   "metadata": {
    "tags": []
   },
   "source": [
    "# Sampling"
   ]
  },
  {
   "cell_type": "markdown",
   "id": "2e7b8cdb-558e-4344-b21e-9870e4f6598d",
   "metadata": {},
   "source": [
    "## Nivell 1"
   ]
  },
  {
   "cell_type": "markdown",
   "id": "5c26e5dd-44f0-4edd-ad8f-a1d579190ea9",
   "metadata": {},
   "source": [
    "### Exercise 1 - sample random simple and sample sistematic"
   ]
  },
  {
   "cell_type": "markdown",
   "id": "1764d976-5c76-4873-9e21-03c9b71b1aa2",
   "metadata": {},
   "source": [
    "Dataset about earnings in esports:\n",
    "- Kaggle: https://www.kaggle.com/jackdaoud/esports-earnings-for-players-teams-by-game \n",
    "- Working with the amount of earnings from each player to represent the statistics about the highest earnings. \n",
    "- Dataset contains 1000 total observations from the top 10 games on eSports."
   ]
  },
  {
   "cell_type": "code",
   "execution_count": 23,
   "id": "dd41a104-b874-4910-af9f-ec4350c10a82",
   "metadata": {},
   "outputs": [],
   "source": [
    "import numpy as np\n",
    "import pandas as pd\n",
    "import matplotlib.pyplot as plt\n",
    "import seaborn as sns\n",
    "import random\n",
    "import statistics\n",
    "%matplotlib inline\n",
    "from sklearn.model_selection import train_test_split\n",
    "from random import randint"
   ]
  },
  {
   "cell_type": "code",
   "execution_count": 24,
   "id": "6d23fd41-4cac-4f5e-b90a-097fbd106b88",
   "metadata": {},
   "outputs": [],
   "source": [
    "esports_df = pd.read_csv('highest_earning_players.csv')"
   ]
  },
  {
   "cell_type": "code",
   "execution_count": 25,
   "id": "6c8e6a03-5b33-4c2b-91b8-5fc3ea1405ed",
   "metadata": {},
   "outputs": [
    {
     "data": {
      "text/html": [
       "<div>\n",
       "<style scoped>\n",
       "    .dataframe tbody tr th:only-of-type {\n",
       "        vertical-align: middle;\n",
       "    }\n",
       "\n",
       "    .dataframe tbody tr th {\n",
       "        vertical-align: top;\n",
       "    }\n",
       "\n",
       "    .dataframe thead th {\n",
       "        text-align: right;\n",
       "    }\n",
       "</style>\n",
       "<table border=\"1\" class=\"dataframe\">\n",
       "  <thead>\n",
       "    <tr style=\"text-align: right;\">\n",
       "      <th></th>\n",
       "      <th>PlayerId</th>\n",
       "      <th>NameFirst</th>\n",
       "      <th>NameLast</th>\n",
       "      <th>CurrentHandle</th>\n",
       "      <th>CountryCode</th>\n",
       "      <th>TotalUSDPrize</th>\n",
       "      <th>Game</th>\n",
       "      <th>Genre</th>\n",
       "    </tr>\n",
       "  </thead>\n",
       "  <tbody>\n",
       "    <tr>\n",
       "      <th>0</th>\n",
       "      <td>3883</td>\n",
       "      <td>Peter</td>\n",
       "      <td>Rasmussen</td>\n",
       "      <td>dupreeh</td>\n",
       "      <td>dk</td>\n",
       "      <td>1822989.41</td>\n",
       "      <td>Counter-Strike: Global Offensive</td>\n",
       "      <td>First-Person Shooter</td>\n",
       "    </tr>\n",
       "    <tr>\n",
       "      <th>1</th>\n",
       "      <td>3679</td>\n",
       "      <td>Andreas</td>\n",
       "      <td>Højsleth</td>\n",
       "      <td>Xyp9x</td>\n",
       "      <td>dk</td>\n",
       "      <td>1799288.57</td>\n",
       "      <td>Counter-Strike: Global Offensive</td>\n",
       "      <td>First-Person Shooter</td>\n",
       "    </tr>\n",
       "    <tr>\n",
       "      <th>2</th>\n",
       "      <td>3885</td>\n",
       "      <td>Nicolai</td>\n",
       "      <td>Reedtz</td>\n",
       "      <td>dev1ce</td>\n",
       "      <td>dk</td>\n",
       "      <td>1787489.88</td>\n",
       "      <td>Counter-Strike: Global Offensive</td>\n",
       "      <td>First-Person Shooter</td>\n",
       "    </tr>\n",
       "    <tr>\n",
       "      <th>3</th>\n",
       "      <td>3672</td>\n",
       "      <td>Lukas</td>\n",
       "      <td>Rossander</td>\n",
       "      <td>gla1ve</td>\n",
       "      <td>dk</td>\n",
       "      <td>1652350.75</td>\n",
       "      <td>Counter-Strike: Global Offensive</td>\n",
       "      <td>First-Person Shooter</td>\n",
       "    </tr>\n",
       "    <tr>\n",
       "      <th>4</th>\n",
       "      <td>17800</td>\n",
       "      <td>Emil</td>\n",
       "      <td>Reif</td>\n",
       "      <td>Magisk</td>\n",
       "      <td>dk</td>\n",
       "      <td>1416448.64</td>\n",
       "      <td>Counter-Strike: Global Offensive</td>\n",
       "      <td>First-Person Shooter</td>\n",
       "    </tr>\n",
       "  </tbody>\n",
       "</table>\n",
       "</div>"
      ],
      "text/plain": [
       "   PlayerId NameFirst   NameLast CurrentHandle CountryCode  TotalUSDPrize  \\\n",
       "0      3883     Peter  Rasmussen       dupreeh          dk     1822989.41   \n",
       "1      3679   Andreas   Højsleth         Xyp9x          dk     1799288.57   \n",
       "2      3885   Nicolai     Reedtz        dev1ce          dk     1787489.88   \n",
       "3      3672     Lukas  Rossander        gla1ve          dk     1652350.75   \n",
       "4     17800      Emil       Reif        Magisk          dk     1416448.64   \n",
       "\n",
       "                               Game                 Genre  \n",
       "0  Counter-Strike: Global Offensive  First-Person Shooter  \n",
       "1  Counter-Strike: Global Offensive  First-Person Shooter  \n",
       "2  Counter-Strike: Global Offensive  First-Person Shooter  \n",
       "3  Counter-Strike: Global Offensive  First-Person Shooter  \n",
       "4  Counter-Strike: Global Offensive  First-Person Shooter  "
      ]
     },
     "execution_count": 25,
     "metadata": {},
     "output_type": "execute_result"
    }
   ],
   "source": [
    "esports_df.head(5)"
   ]
  },
  {
   "cell_type": "code",
   "execution_count": 26,
   "id": "6b46882c-e005-45c3-a15c-6293347dc40f",
   "metadata": {},
   "outputs": [
    {
     "data": {
      "text/html": [
       "<div>\n",
       "<style scoped>\n",
       "    .dataframe tbody tr th:only-of-type {\n",
       "        vertical-align: middle;\n",
       "    }\n",
       "\n",
       "    .dataframe tbody tr th {\n",
       "        vertical-align: top;\n",
       "    }\n",
       "\n",
       "    .dataframe thead th {\n",
       "        text-align: right;\n",
       "    }\n",
       "</style>\n",
       "<table border=\"1\" class=\"dataframe\">\n",
       "  <thead>\n",
       "    <tr style=\"text-align: right;\">\n",
       "      <th></th>\n",
       "      <th>PlayerId</th>\n",
       "      <th>TotalUSDPrize</th>\n",
       "    </tr>\n",
       "  </thead>\n",
       "  <tbody>\n",
       "    <tr>\n",
       "      <th>count</th>\n",
       "      <td>1000.000000</td>\n",
       "      <td>1.000000e+03</td>\n",
       "    </tr>\n",
       "    <tr>\n",
       "      <th>mean</th>\n",
       "      <td>27793.587000</td>\n",
       "      <td>3.977932e+05</td>\n",
       "    </tr>\n",
       "    <tr>\n",
       "      <th>std</th>\n",
       "      <td>22170.225194</td>\n",
       "      <td>6.908492e+05</td>\n",
       "    </tr>\n",
       "    <tr>\n",
       "      <th>min</th>\n",
       "      <td>1000.000000</td>\n",
       "      <td>2.417167e+04</td>\n",
       "    </tr>\n",
       "    <tr>\n",
       "      <th>25%</th>\n",
       "      <td>5374.500000</td>\n",
       "      <td>8.378962e+04</td>\n",
       "    </tr>\n",
       "    <tr>\n",
       "      <th>50%</th>\n",
       "      <td>23502.000000</td>\n",
       "      <td>1.683284e+05</td>\n",
       "    </tr>\n",
       "    <tr>\n",
       "      <th>75%</th>\n",
       "      <td>48127.250000</td>\n",
       "      <td>3.937352e+05</td>\n",
       "    </tr>\n",
       "    <tr>\n",
       "      <th>max</th>\n",
       "      <td>83085.000000</td>\n",
       "      <td>6.952597e+06</td>\n",
       "    </tr>\n",
       "  </tbody>\n",
       "</table>\n",
       "</div>"
      ],
      "text/plain": [
       "           PlayerId  TotalUSDPrize\n",
       "count   1000.000000   1.000000e+03\n",
       "mean   27793.587000   3.977932e+05\n",
       "std    22170.225194   6.908492e+05\n",
       "min     1000.000000   2.417167e+04\n",
       "25%     5374.500000   8.378962e+04\n",
       "50%    23502.000000   1.683284e+05\n",
       "75%    48127.250000   3.937352e+05\n",
       "max    83085.000000   6.952597e+06"
      ]
     },
     "execution_count": 26,
     "metadata": {},
     "output_type": "execute_result"
    }
   ],
   "source": [
    "esports_df.describe()"
   ]
  },
  {
   "cell_type": "markdown",
   "id": "0acb247c-b203-442b-b361-5bea1329e18c",
   "metadata": {},
   "source": [
    "#### Simple random sample"
   ]
  },
  {
   "cell_type": "code",
   "execution_count": 27,
   "id": "1ce6c1b7-c4cd-4f0c-a41d-b283b7d64a49",
   "metadata": {},
   "outputs": [
    {
     "data": {
      "text/html": [
       "<div>\n",
       "<style scoped>\n",
       "    .dataframe tbody tr th:only-of-type {\n",
       "        vertical-align: middle;\n",
       "    }\n",
       "\n",
       "    .dataframe tbody tr th {\n",
       "        vertical-align: top;\n",
       "    }\n",
       "\n",
       "    .dataframe thead th {\n",
       "        text-align: right;\n",
       "    }\n",
       "</style>\n",
       "<table border=\"1\" class=\"dataframe\">\n",
       "  <thead>\n",
       "    <tr style=\"text-align: right;\">\n",
       "      <th></th>\n",
       "      <th>PlayerId</th>\n",
       "      <th>NameFirst</th>\n",
       "      <th>NameLast</th>\n",
       "      <th>CurrentHandle</th>\n",
       "      <th>CountryCode</th>\n",
       "      <th>TotalUSDPrize</th>\n",
       "      <th>Game</th>\n",
       "      <th>Genre</th>\n",
       "    </tr>\n",
       "  </thead>\n",
       "  <tbody>\n",
       "    <tr>\n",
       "      <th>201</th>\n",
       "      <td>6466</td>\n",
       "      <td>Ho Seong</td>\n",
       "      <td>Lee</td>\n",
       "      <td>Duke</td>\n",
       "      <td>kr</td>\n",
       "      <td>954620.62</td>\n",
       "      <td>League of Legends</td>\n",
       "      <td>Multiplayer Online Battle Arena</td>\n",
       "    </tr>\n",
       "    <tr>\n",
       "      <th>753</th>\n",
       "      <td>66881</td>\n",
       "      <td>Luke</td>\n",
       "      <td>Newey</td>\n",
       "      <td>Luke12</td>\n",
       "      <td>au</td>\n",
       "      <td>79049.82</td>\n",
       "      <td>PUBG</td>\n",
       "      <td>Battle Royale</td>\n",
       "    </tr>\n",
       "    <tr>\n",
       "      <th>968</th>\n",
       "      <td>33858</td>\n",
       "      <td>Thomas</td>\n",
       "      <td>Zimmer</td>\n",
       "      <td>Sintolol</td>\n",
       "      <td>de</td>\n",
       "      <td>76346.78</td>\n",
       "      <td>Hearthstone</td>\n",
       "      <td>Collectible Card Game</td>\n",
       "    </tr>\n",
       "    <tr>\n",
       "      <th>101</th>\n",
       "      <td>3822</td>\n",
       "      <td>Jesse</td>\n",
       "      <td>Vainikka</td>\n",
       "      <td>JerAx</td>\n",
       "      <td>fi</td>\n",
       "      <td>6470000.02</td>\n",
       "      <td>Dota 2</td>\n",
       "      <td>Multiplayer Online Battle Arena</td>\n",
       "    </tr>\n",
       "    <tr>\n",
       "      <th>20</th>\n",
       "      <td>3290</td>\n",
       "      <td>Nathan</td>\n",
       "      <td>Schmitt</td>\n",
       "      <td>NBK</td>\n",
       "      <td>fr</td>\n",
       "      <td>805444.66</td>\n",
       "      <td>Counter-Strike: Global Offensive</td>\n",
       "      <td>First-Person Shooter</td>\n",
       "    </tr>\n",
       "  </tbody>\n",
       "</table>\n",
       "</div>"
      ],
      "text/plain": [
       "     PlayerId NameFirst  NameLast CurrentHandle CountryCode  TotalUSDPrize  \\\n",
       "201      6466  Ho Seong       Lee          Duke          kr      954620.62   \n",
       "753     66881      Luke     Newey        Luke12          au       79049.82   \n",
       "968     33858    Thomas    Zimmer      Sintolol          de       76346.78   \n",
       "101      3822     Jesse  Vainikka         JerAx          fi     6470000.02   \n",
       "20       3290    Nathan   Schmitt           NBK          fr      805444.66   \n",
       "\n",
       "                                 Game                            Genre  \n",
       "201                 League of Legends  Multiplayer Online Battle Arena  \n",
       "753                              PUBG                    Battle Royale  \n",
       "968                       Hearthstone            Collectible Card Game  \n",
       "101                            Dota 2  Multiplayer Online Battle Arena  \n",
       "20   Counter-Strike: Global Offensive             First-Person Shooter  "
      ]
     },
     "execution_count": 27,
     "metadata": {},
     "output_type": "execute_result"
    }
   ],
   "source": [
    "simple_esports_df = esports_df.sample(n = 100)\n",
    "simple_esports_df.head(5)"
   ]
  },
  {
   "cell_type": "code",
   "execution_count": 28,
   "id": "0559c14c-c10e-4706-bbe6-2bf051138839",
   "metadata": {},
   "outputs": [
    {
     "name": "stdout",
     "output_type": "stream",
     "text": [
      "<class 'pandas.core.frame.DataFrame'>\n",
      "Int64Index: 100 entries, 201 to 283\n",
      "Data columns (total 8 columns):\n",
      " #   Column         Non-Null Count  Dtype  \n",
      "---  ------         --------------  -----  \n",
      " 0   PlayerId       100 non-null    int64  \n",
      " 1   NameFirst      100 non-null    object \n",
      " 2   NameLast       100 non-null    object \n",
      " 3   CurrentHandle  100 non-null    object \n",
      " 4   CountryCode    100 non-null    object \n",
      " 5   TotalUSDPrize  100 non-null    float64\n",
      " 6   Game           100 non-null    object \n",
      " 7   Genre          100 non-null    object \n",
      "dtypes: float64(1), int64(1), object(6)\n",
      "memory usage: 7.0+ KB\n"
     ]
    }
   ],
   "source": [
    "simple_esports_df.info()#I want to check if I really have 100 values"
   ]
  },
  {
   "cell_type": "code",
   "execution_count": 29,
   "id": "a2bb46c5-b6af-42f1-8ee9-e1f9d3822989",
   "metadata": {},
   "outputs": [
    {
     "data": {
      "text/html": [
       "<div>\n",
       "<style scoped>\n",
       "    .dataframe tbody tr th:only-of-type {\n",
       "        vertical-align: middle;\n",
       "    }\n",
       "\n",
       "    .dataframe tbody tr th {\n",
       "        vertical-align: top;\n",
       "    }\n",
       "\n",
       "    .dataframe thead th {\n",
       "        text-align: right;\n",
       "    }\n",
       "</style>\n",
       "<table border=\"1\" class=\"dataframe\">\n",
       "  <thead>\n",
       "    <tr style=\"text-align: right;\">\n",
       "      <th></th>\n",
       "      <th>PlayerId</th>\n",
       "      <th>TotalUSDPrize</th>\n",
       "    </tr>\n",
       "  </thead>\n",
       "  <tbody>\n",
       "    <tr>\n",
       "      <th>count</th>\n",
       "      <td>100.000000</td>\n",
       "      <td>1.000000e+02</td>\n",
       "    </tr>\n",
       "    <tr>\n",
       "      <th>mean</th>\n",
       "      <td>32068.860000</td>\n",
       "      <td>3.513494e+05</td>\n",
       "    </tr>\n",
       "    <tr>\n",
       "      <th>std</th>\n",
       "      <td>23037.627072</td>\n",
       "      <td>7.081882e+05</td>\n",
       "    </tr>\n",
       "    <tr>\n",
       "      <th>min</th>\n",
       "      <td>1011.000000</td>\n",
       "      <td>3.617167e+04</td>\n",
       "    </tr>\n",
       "    <tr>\n",
       "      <th>25%</th>\n",
       "      <td>10669.500000</td>\n",
       "      <td>8.590563e+04</td>\n",
       "    </tr>\n",
       "    <tr>\n",
       "      <th>50%</th>\n",
       "      <td>30401.500000</td>\n",
       "      <td>1.777067e+05</td>\n",
       "    </tr>\n",
       "    <tr>\n",
       "      <th>75%</th>\n",
       "      <td>53840.250000</td>\n",
       "      <td>3.394026e+05</td>\n",
       "    </tr>\n",
       "    <tr>\n",
       "      <th>max</th>\n",
       "      <td>80697.000000</td>\n",
       "      <td>6.470000e+06</td>\n",
       "    </tr>\n",
       "  </tbody>\n",
       "</table>\n",
       "</div>"
      ],
      "text/plain": [
       "           PlayerId  TotalUSDPrize\n",
       "count    100.000000   1.000000e+02\n",
       "mean   32068.860000   3.513494e+05\n",
       "std    23037.627072   7.081882e+05\n",
       "min     1011.000000   3.617167e+04\n",
       "25%    10669.500000   8.590563e+04\n",
       "50%    30401.500000   1.777067e+05\n",
       "75%    53840.250000   3.394026e+05\n",
       "max    80697.000000   6.470000e+06"
      ]
     },
     "execution_count": 29,
     "metadata": {},
     "output_type": "execute_result"
    }
   ],
   "source": [
    "simple_esports_df.describe()"
   ]
  },
  {
   "cell_type": "markdown",
   "id": "2dc18a3b-4e69-42d4-ab5c-50bd6fef2def",
   "metadata": {},
   "source": [
    "Interpretation: The arithmetic mean is 400498.9 USD prize by player. For a very simple statistics it might be ok but we need to get average rate and correctly weight each data point. Let's use the harmonic mean. It will help to lower the weight of the outliers without removing them."
   ]
  },
  {
   "cell_type": "code",
   "execution_count": 30,
   "id": "05dcf8a9-b4ef-43b7-ad36-14fddf193b18",
   "metadata": {},
   "outputs": [
    {
     "name": "stdout",
     "output_type": "stream",
     "text": [
      "The harmonic mean is 129909.23 USD prize by player.\n"
     ]
    }
   ],
   "source": [
    "har_mean1 = statistics.harmonic_mean(simple_esports_df['TotalUSDPrize'])\n",
    "print('The harmonic mean is',round(har_mean1,2),'USD prize by player.')"
   ]
  },
  {
   "cell_type": "markdown",
   "id": "db0e284b-5685-4783-a725-c267b1dd883e",
   "metadata": {},
   "source": [
    "#### Systematic sample"
   ]
  },
  {
   "cell_type": "code",
   "execution_count": 31,
   "id": "8f56fdd0-fd90-4bdf-8593-5536d130f63f",
   "metadata": {},
   "outputs": [],
   "source": [
    "#random step number\n",
    "step_num = 10\n",
    "\n",
    "def randomNum():\n",
    "    return np.random.randint(1, 50)\n",
    "num = randomNum()"
   ]
  },
  {
   "cell_type": "code",
   "execution_count": 32,
   "id": "984eddc2-e6e6-43d2-aeb5-7434a2e27f6f",
   "metadata": {},
   "outputs": [
    {
     "data": {
      "text/html": [
       "<div>\n",
       "<style scoped>\n",
       "    .dataframe tbody tr th:only-of-type {\n",
       "        vertical-align: middle;\n",
       "    }\n",
       "\n",
       "    .dataframe tbody tr th {\n",
       "        vertical-align: top;\n",
       "    }\n",
       "\n",
       "    .dataframe thead th {\n",
       "        text-align: right;\n",
       "    }\n",
       "</style>\n",
       "<table border=\"1\" class=\"dataframe\">\n",
       "  <thead>\n",
       "    <tr style=\"text-align: right;\">\n",
       "      <th></th>\n",
       "      <th>PlayerId</th>\n",
       "      <th>NameFirst</th>\n",
       "      <th>NameLast</th>\n",
       "      <th>CurrentHandle</th>\n",
       "      <th>CountryCode</th>\n",
       "      <th>TotalUSDPrize</th>\n",
       "      <th>Game</th>\n",
       "      <th>Genre</th>\n",
       "    </tr>\n",
       "  </thead>\n",
       "  <tbody>\n",
       "    <tr>\n",
       "      <th>7</th>\n",
       "      <td>12169</td>\n",
       "      <td>Fernando</td>\n",
       "      <td>Alvarenga</td>\n",
       "      <td>fer</td>\n",
       "      <td>br</td>\n",
       "      <td>1063038.92</td>\n",
       "      <td>Counter-Strike: Global Offensive</td>\n",
       "      <td>First-Person Shooter</td>\n",
       "    </tr>\n",
       "    <tr>\n",
       "      <th>17</th>\n",
       "      <td>5000</td>\n",
       "      <td>Freddy</td>\n",
       "      <td>Johansson</td>\n",
       "      <td>KRiMZ</td>\n",
       "      <td>se</td>\n",
       "      <td>867823.34</td>\n",
       "      <td>Counter-Strike: Global Offensive</td>\n",
       "      <td>First-Person Shooter</td>\n",
       "    </tr>\n",
       "    <tr>\n",
       "      <th>27</th>\n",
       "      <td>1511</td>\n",
       "      <td>Daniil</td>\n",
       "      <td>Teslenko</td>\n",
       "      <td>Zeus</td>\n",
       "      <td>ua</td>\n",
       "      <td>689568.70</td>\n",
       "      <td>Counter-Strike: Global Offensive</td>\n",
       "      <td>First-Person Shooter</td>\n",
       "    </tr>\n",
       "    <tr>\n",
       "      <th>37</th>\n",
       "      <td>1488</td>\n",
       "      <td>Jarosław</td>\n",
       "      <td>Jarząbkowski</td>\n",
       "      <td>pashaBiceps</td>\n",
       "      <td>pl</td>\n",
       "      <td>577382.35</td>\n",
       "      <td>Counter-Strike: Global Offensive</td>\n",
       "      <td>First-Person Shooter</td>\n",
       "    </tr>\n",
       "    <tr>\n",
       "      <th>47</th>\n",
       "      <td>12859</td>\n",
       "      <td>Jonas</td>\n",
       "      <td>Olofsson</td>\n",
       "      <td>Lekr0</td>\n",
       "      <td>se</td>\n",
       "      <td>464499.26</td>\n",
       "      <td>Counter-Strike: Global Offensive</td>\n",
       "      <td>First-Person Shooter</td>\n",
       "    </tr>\n",
       "  </tbody>\n",
       "</table>\n",
       "</div>"
      ],
      "text/plain": [
       "    PlayerId NameFirst      NameLast CurrentHandle CountryCode  TotalUSDPrize  \\\n",
       "7      12169  Fernando     Alvarenga           fer          br     1063038.92   \n",
       "17      5000    Freddy     Johansson         KRiMZ          se      867823.34   \n",
       "27      1511    Daniil      Teslenko          Zeus          ua      689568.70   \n",
       "37      1488  Jarosław  Jarząbkowski   pashaBiceps          pl      577382.35   \n",
       "47     12859     Jonas      Olofsson         Lekr0          se      464499.26   \n",
       "\n",
       "                                Game                 Genre  \n",
       "7   Counter-Strike: Global Offensive  First-Person Shooter  \n",
       "17  Counter-Strike: Global Offensive  First-Person Shooter  \n",
       "27  Counter-Strike: Global Offensive  First-Person Shooter  \n",
       "37  Counter-Strike: Global Offensive  First-Person Shooter  \n",
       "47  Counter-Strike: Global Offensive  First-Person Shooter  "
      ]
     },
     "execution_count": 32,
     "metadata": {},
     "output_type": "execute_result"
    }
   ],
   "source": [
    "#[start:stop:step]\n",
    "systematic_esports_df = esports_df[num:len(esports_df):step_num]\n",
    "systematic_esports_df.head(5)"
   ]
  },
  {
   "cell_type": "code",
   "execution_count": 33,
   "id": "6e3fbaa5-5ebc-4bda-a43a-511695107c06",
   "metadata": {},
   "outputs": [
    {
     "name": "stdout",
     "output_type": "stream",
     "text": [
      "<class 'pandas.core.frame.DataFrame'>\n",
      "RangeIndex: 100 entries, 7 to 997\n",
      "Data columns (total 8 columns):\n",
      " #   Column         Non-Null Count  Dtype  \n",
      "---  ------         --------------  -----  \n",
      " 0   PlayerId       100 non-null    int64  \n",
      " 1   NameFirst      100 non-null    object \n",
      " 2   NameLast       100 non-null    object \n",
      " 3   CurrentHandle  100 non-null    object \n",
      " 4   CountryCode    100 non-null    object \n",
      " 5   TotalUSDPrize  100 non-null    float64\n",
      " 6   Game           100 non-null    object \n",
      " 7   Genre          100 non-null    object \n",
      "dtypes: float64(1), int64(1), object(6)\n",
      "memory usage: 6.4+ KB\n"
     ]
    }
   ],
   "source": [
    "systematic_esports_df.info()"
   ]
  },
  {
   "cell_type": "markdown",
   "id": "e75e57bd-5f29-468f-87d3-f2051322e34a",
   "metadata": {},
   "source": [
    "I have only 96 entries so I would like to add the rest to get 100 entries with the same step."
   ]
  },
  {
   "cell_type": "code",
   "execution_count": 34,
   "id": "073c5792-cad0-48bb-980a-ea212d5c10d5",
   "metadata": {},
   "outputs": [
    {
     "data": {
      "text/plain": [
       "100"
      ]
     },
     "execution_count": 34,
     "metadata": {},
     "output_type": "execute_result"
    }
   ],
   "source": [
    "len(systematic_esports_df)"
   ]
  },
  {
   "cell_type": "code",
   "execution_count": 35,
   "id": "e3d4662a-5796-4a0d-82ed-adea62969496",
   "metadata": {},
   "outputs": [
    {
     "data": {
      "text/plain": [
       "0"
      ]
     },
     "execution_count": 35,
     "metadata": {},
     "output_type": "execute_result"
    }
   ],
   "source": [
    "addNum = (100 - len(systematic_esports_df))\n",
    "addNum"
   ]
  },
  {
   "cell_type": "code",
   "execution_count": 36,
   "id": "e9b1afe7-9968-4056-a9ca-df2f5344886e",
   "metadata": {},
   "outputs": [],
   "source": [
    "x = step_num - addNum\n",
    "var1 = esports_df.iloc[x]\n",
    "var2 = esports_df.iloc[x+step_num]\n",
    "var3 = esports_df.iloc[x+(2*step_num)]"
   ]
  },
  {
   "cell_type": "code",
   "execution_count": 37,
   "id": "8a25289f-125b-43cc-b909-33c3c3397731",
   "metadata": {},
   "outputs": [],
   "source": [
    "systematic_esports_df = systematic_esports_df.append(var1, ignore_index = True)\n",
    "systematic_esports_df = systematic_esports_df.append(var2, ignore_index = True)\n",
    "systematic_esports_df = systematic_esports_df.append(var3, ignore_index = True)"
   ]
  },
  {
   "cell_type": "code",
   "execution_count": 38,
   "id": "a223f2fc-5b2b-4521-b734-eadf471ecc57",
   "metadata": {},
   "outputs": [
    {
     "name": "stdout",
     "output_type": "stream",
     "text": [
      "<class 'pandas.core.frame.DataFrame'>\n",
      "RangeIndex: 103 entries, 0 to 102\n",
      "Data columns (total 8 columns):\n",
      " #   Column         Non-Null Count  Dtype  \n",
      "---  ------         --------------  -----  \n",
      " 0   PlayerId       103 non-null    int64  \n",
      " 1   NameFirst      103 non-null    object \n",
      " 2   NameLast       103 non-null    object \n",
      " 3   CurrentHandle  103 non-null    object \n",
      " 4   CountryCode    103 non-null    object \n",
      " 5   TotalUSDPrize  103 non-null    float64\n",
      " 6   Game           103 non-null    object \n",
      " 7   Genre          103 non-null    object \n",
      "dtypes: float64(1), int64(1), object(6)\n",
      "memory usage: 6.6+ KB\n"
     ]
    }
   ],
   "source": [
    "systematic_esports_df.info()"
   ]
  },
  {
   "cell_type": "markdown",
   "id": "19005548-9669-4a7a-8039-6302dca1d951",
   "metadata": {},
   "source": [
    "Now I have 100 entries and I can compare harmonic mean of two methods of sampling."
   ]
  },
  {
   "cell_type": "code",
   "execution_count": 39,
   "id": "afc8cc6b-4dc4-4130-8056-c5e085f1aea2",
   "metadata": {},
   "outputs": [
    {
     "name": "stdout",
     "output_type": "stream",
     "text": [
      "The harmonic mean is 122484.65 USD prize by player.\n"
     ]
    }
   ],
   "source": [
    "har_mean2 = statistics.harmonic_mean(systematic_esports_df['TotalUSDPrize'])\n",
    "print('The harmonic mean is',round(har_mean2,2),'USD prize by player.')"
   ]
  },
  {
   "cell_type": "markdown",
   "id": "8a9f04e4-b5e7-4b3f-a41a-132cd0654549",
   "metadata": {},
   "source": [
    "## Nivell 2"
   ]
  },
  {
   "cell_type": "markdown",
   "id": "1c5fc5c1-98c9-4ddb-88d0-55872c77070b",
   "metadata": {},
   "source": [
    "### Exercise 2 - Stratified Random Sample and SMOTE"
   ]
  },
  {
   "cell_type": "markdown",
   "id": "1387f9e0-1fea-423e-aa12-2478e674fc21",
   "metadata": {},
   "source": [
    "#### Stratified random sample - by algorithm"
   ]
  },
  {
   "cell_type": "markdown",
   "id": "a5af94c2-0928-4dc0-88ec-6e2c9c4b4276",
   "metadata": {},
   "source": [
    "For Stratified Random Sample I will divide the player in groups by game, there are 10 games in the dataset, so I can pick 10 players form each(10%), than I will get 100 players in total. Use this sampling method when we have some minority group."
   ]
  },
  {
   "cell_type": "code",
   "execution_count": 40,
   "id": "197675d5-00bf-47ba-8efd-f191548d1ffe",
   "metadata": {},
   "outputs": [
    {
     "data": {
      "text/plain": [
       "PUBG                                100\n",
       "Fortnite                            100\n",
       "Hearthstone                         100\n",
       "Starcraft II                        100\n",
       "Counter-Strike: Global Offensive    100\n",
       "Arena of Valor                      100\n",
       "League of Legends                   100\n",
       "Dota 2                              100\n",
       "Heroes of the Storm                 100\n",
       "Overwatch                           100\n",
       "Name: Game, dtype: int64"
      ]
     },
     "execution_count": 40,
     "metadata": {},
     "output_type": "execute_result"
    }
   ],
   "source": [
    "#how many inputs there are for each game\n",
    "esports_df['Game'].value_counts()"
   ]
  },
  {
   "cell_type": "code",
   "execution_count": 41,
   "id": "5c93539f-5bb0-4d35-acbd-41ec5e5a5545",
   "metadata": {},
   "outputs": [
    {
     "data": {
      "text/plain": [
       "array(['Counter-Strike: Global Offensive', 'Dota 2', 'League of Legends',\n",
       "       'Fortnite', 'Overwatch', 'Starcraft II', 'Heroes of the Storm',\n",
       "       'PUBG', 'Arena of Valor', 'Hearthstone'], dtype=object)"
      ]
     },
     "execution_count": 41,
     "metadata": {},
     "output_type": "execute_result"
    }
   ],
   "source": [
    "#games\n",
    "esports_df['Game'].unique()"
   ]
  },
  {
   "cell_type": "code",
   "execution_count": 42,
   "id": "adace3b6-39dd-4b94-b6e2-3f9db50c1e09",
   "metadata": {},
   "outputs": [],
   "source": [
    "#stratified split - final 100 values\n",
    "Xtrain, Xtest = train_test_split(esports_df, test_size=0.10, stratify=esports_df[['Game']])"
   ]
  },
  {
   "cell_type": "code",
   "execution_count": 43,
   "id": "efdcbdf4-6656-4457-a9c5-d4c2f3989005",
   "metadata": {},
   "outputs": [
    {
     "data": {
      "text/plain": [
       "array(['Overwatch', 'Starcraft II', 'Fortnite',\n",
       "       'Counter-Strike: Global Offensive', 'Heroes of the Storm',\n",
       "       'Dota 2', 'PUBG', 'Hearthstone', 'League of Legends',\n",
       "       'Arena of Valor'], dtype=object)"
      ]
     },
     "execution_count": 43,
     "metadata": {},
     "output_type": "execute_result"
    }
   ],
   "source": [
    "#sample contains which games?\n",
    "Xtest['Game'].unique()"
   ]
  },
  {
   "cell_type": "code",
   "execution_count": 44,
   "id": "44f87a90-4426-44b9-94cb-3c3d286e6016",
   "metadata": {},
   "outputs": [
    {
     "data": {
      "text/plain": [
       "count           100\n",
       "unique           10\n",
       "top       Overwatch\n",
       "freq             10\n",
       "Name: Game, dtype: object"
      ]
     },
     "execution_count": 44,
     "metadata": {},
     "output_type": "execute_result"
    }
   ],
   "source": [
    "Xtest['Game'].describe()"
   ]
  },
  {
   "cell_type": "markdown",
   "id": "aa6635e5-b9d1-496e-acaa-9cdbdf201d7b",
   "metadata": {},
   "source": [
    "Sample is stratified - contains 80 values for each 10 games."
   ]
  },
  {
   "cell_type": "markdown",
   "id": "598f93a0-a878-4b3a-8db9-ca0d453c60ac",
   "metadata": {},
   "source": [
    "#### Stratified random sample - manually collected values"
   ]
  },
  {
   "cell_type": "code",
   "execution_count": 45,
   "id": "f30202d4-3392-4f5e-843d-34cd9baae43d",
   "metadata": {},
   "outputs": [],
   "source": [
    "sorted_esports_df = esports_df. sort_values(by='Game')"
   ]
  },
  {
   "cell_type": "code",
   "execution_count": 46,
   "id": "58c2145b-d351-460d-8df7-45723179b77c",
   "metadata": {},
   "outputs": [
    {
     "data": {
      "text/html": [
       "<div>\n",
       "<style scoped>\n",
       "    .dataframe tbody tr th:only-of-type {\n",
       "        vertical-align: middle;\n",
       "    }\n",
       "\n",
       "    .dataframe tbody tr th {\n",
       "        vertical-align: top;\n",
       "    }\n",
       "\n",
       "    .dataframe thead th {\n",
       "        text-align: right;\n",
       "    }\n",
       "</style>\n",
       "<table border=\"1\" class=\"dataframe\">\n",
       "  <thead>\n",
       "    <tr style=\"text-align: right;\">\n",
       "      <th></th>\n",
       "      <th>PlayerId</th>\n",
       "      <th>NameFirst</th>\n",
       "      <th>NameLast</th>\n",
       "      <th>CurrentHandle</th>\n",
       "      <th>CountryCode</th>\n",
       "      <th>TotalUSDPrize</th>\n",
       "      <th>Game</th>\n",
       "      <th>Genre</th>\n",
       "    </tr>\n",
       "  </thead>\n",
       "  <tbody>\n",
       "    <tr>\n",
       "      <th>801</th>\n",
       "      <td>60565</td>\n",
       "      <td>Guixin</td>\n",
       "      <td>Guo</td>\n",
       "      <td>NuoYan</td>\n",
       "      <td>cn</td>\n",
       "      <td>416162.04</td>\n",
       "      <td>Arena of Valor</td>\n",
       "      <td>Multiplayer Online Battle Arena</td>\n",
       "    </tr>\n",
       "    <tr>\n",
       "      <th>873</th>\n",
       "      <td>75020</td>\n",
       "      <td>Aum</td>\n",
       "      <td>Chatchanapong</td>\n",
       "      <td>Happy</td>\n",
       "      <td>th</td>\n",
       "      <td>40376.87</td>\n",
       "      <td>Arena of Valor</td>\n",
       "      <td>Multiplayer Online Battle Arena</td>\n",
       "    </tr>\n",
       "    <tr>\n",
       "      <th>872</th>\n",
       "      <td>54012</td>\n",
       "      <td>Denchai</td>\n",
       "      <td>Eampaojeen</td>\n",
       "      <td>JameCo</td>\n",
       "      <td>th</td>\n",
       "      <td>41144.36</td>\n",
       "      <td>Arena of Valor</td>\n",
       "      <td>Multiplayer Online Battle Arena</td>\n",
       "    </tr>\n",
       "    <tr>\n",
       "      <th>871</th>\n",
       "      <td>53974</td>\n",
       "      <td>-</td>\n",
       "      <td>-</td>\n",
       "      <td>Sirenia</td>\n",
       "      <td>tw</td>\n",
       "      <td>42482.43</td>\n",
       "      <td>Arena of Valor</td>\n",
       "      <td>Multiplayer Online Battle Arena</td>\n",
       "    </tr>\n",
       "    <tr>\n",
       "      <th>870</th>\n",
       "      <td>53973</td>\n",
       "      <td>-</td>\n",
       "      <td>-</td>\n",
       "      <td>Liang</td>\n",
       "      <td>tw</td>\n",
       "      <td>42482.43</td>\n",
       "      <td>Arena of Valor</td>\n",
       "      <td>Multiplayer Online Battle Arena</td>\n",
       "    </tr>\n",
       "  </tbody>\n",
       "</table>\n",
       "</div>"
      ],
      "text/plain": [
       "     PlayerId NameFirst       NameLast CurrentHandle CountryCode  \\\n",
       "801     60565    Guixin            Guo        NuoYan          cn   \n",
       "873     75020       Aum  Chatchanapong         Happy          th   \n",
       "872     54012   Denchai     Eampaojeen        JameCo          th   \n",
       "871     53974         -              -       Sirenia          tw   \n",
       "870     53973         -              -         Liang          tw   \n",
       "\n",
       "     TotalUSDPrize            Game                            Genre  \n",
       "801      416162.04  Arena of Valor  Multiplayer Online Battle Arena  \n",
       "873       40376.87  Arena of Valor  Multiplayer Online Battle Arena  \n",
       "872       41144.36  Arena of Valor  Multiplayer Online Battle Arena  \n",
       "871       42482.43  Arena of Valor  Multiplayer Online Battle Arena  \n",
       "870       42482.43  Arena of Valor  Multiplayer Online Battle Arena  "
      ]
     },
     "execution_count": 46,
     "metadata": {},
     "output_type": "execute_result"
    }
   ],
   "source": [
    "sorted_esports_df.head(5)"
   ]
  },
  {
   "cell_type": "code",
   "execution_count": 47,
   "id": "303fb690-9ba2-4ee9-9042-fd99fc4a69a1",
   "metadata": {},
   "outputs": [
    {
     "data": {
      "text/plain": [
       "array(['Arena of Valor', 'Counter-Strike: Global Offensive', 'Dota 2',\n",
       "       'Fortnite', 'Hearthstone', 'Heroes of the Storm',\n",
       "       'League of Legends', 'Overwatch', 'PUBG', 'Starcraft II'],\n",
       "      dtype=object)"
      ]
     },
     "execution_count": 47,
     "metadata": {},
     "output_type": "execute_result"
    }
   ],
   "source": [
    "sorted_esports_df['Game'].unique()"
   ]
  },
  {
   "cell_type": "code",
   "execution_count": 48,
   "id": "e66fc93b-b802-4e98-857c-573af7c13ad4",
   "metadata": {},
   "outputs": [
    {
     "name": "stdout",
     "output_type": "stream",
     "text": [
      "<class 'pandas.core.frame.DataFrame'>\n",
      "Int64Index: 100 entries, 801 to 802\n",
      "Data columns (total 8 columns):\n",
      " #   Column         Non-Null Count  Dtype  \n",
      "---  ------         --------------  -----  \n",
      " 0   PlayerId       100 non-null    int64  \n",
      " 1   NameFirst      100 non-null    object \n",
      " 2   NameLast       100 non-null    object \n",
      " 3   CurrentHandle  100 non-null    object \n",
      " 4   CountryCode    100 non-null    object \n",
      " 5   TotalUSDPrize  100 non-null    float64\n",
      " 6   Game           100 non-null    object \n",
      " 7   Genre          100 non-null    object \n",
      "dtypes: float64(1), int64(1), object(6)\n",
      "memory usage: 7.0+ KB\n"
     ]
    }
   ],
   "source": [
    "group1 = sorted_esports_df[sorted_esports_df['Game'] == 'Arena of Valor']\n",
    "group1.info()#to check if I get 100 entruies for this group, than I will apply the code for all 10 groups"
   ]
  },
  {
   "cell_type": "code",
   "execution_count": 49,
   "id": "a48b33a2-3b69-450a-a920-7495c457f6da",
   "metadata": {},
   "outputs": [],
   "source": [
    "group2=sorted_esports_df[sorted_esports_df['Game'] == 'Counter-Strike: Global Offensive'] \n",
    "group3=sorted_esports_df[sorted_esports_df['Game'] == 'Dota 2'] \n",
    "group4=sorted_esports_df[sorted_esports_df['Game'] == 'Fortnite'] \n",
    "group5=sorted_esports_df[sorted_esports_df['Game'] == 'Hearthstone'] \n",
    "group6=sorted_esports_df[sorted_esports_df['Game'] == 'Heroes of the Storm'] \n",
    "group7=sorted_esports_df[sorted_esports_df['Game'] == 'League of Legends'] \n",
    "group8=sorted_esports_df[sorted_esports_df['Game'] == 'Overwatch'] \n",
    "group9=sorted_esports_df[sorted_esports_df['Game'] == 'PUBG'] \n",
    "group10=sorted_esports_df[sorted_esports_df['Game'] == 'Starcraft II']"
   ]
  },
  {
   "cell_type": "code",
   "execution_count": 50,
   "id": "5700ea3a-174f-4542-8ccf-cefecab834d0",
   "metadata": {},
   "outputs": [],
   "source": [
    "#getting 10 entries from each group\n",
    "esports_df1 = group1.sample(n = 10)\n",
    "esports_df2 = group2.sample(n = 10)\n",
    "esports_df3 = group3.sample(n = 10)\n",
    "esports_df4 = group4.sample(n = 10)\n",
    "esports_df5 = group5.sample(n = 10)\n",
    "esports_df6 = group6.sample(n = 10)\n",
    "esports_df7 = group7.sample(n = 10)\n",
    "esports_df8 = group8.sample(n = 10)\n",
    "esports_df9 = group9.sample(n = 10)\n",
    "esports_df10 = group10.sample(n = 10)"
   ]
  },
  {
   "cell_type": "code",
   "execution_count": 51,
   "id": "5ecb550f-cacd-4abd-8a9f-05832a453637",
   "metadata": {},
   "outputs": [],
   "source": [
    "stratified_esports_df = esports_df1.append((esports_df2,\n",
    "                                            esports_df3,\n",
    "                                            esports_df4,\n",
    "                                            esports_df5,\n",
    "                                            esports_df6,\n",
    "                                            esports_df7,\n",
    "                                            esports_df8,\n",
    "                                            esports_df9,\n",
    "                                            esports_df10),ignore_index = True)"
   ]
  },
  {
   "cell_type": "code",
   "execution_count": 52,
   "id": "09ec39e7-036c-44fa-a619-6f840407ecf1",
   "metadata": {},
   "outputs": [
    {
     "name": "stdout",
     "output_type": "stream",
     "text": [
      "<class 'pandas.core.frame.DataFrame'>\n",
      "RangeIndex: 100 entries, 0 to 99\n",
      "Data columns (total 8 columns):\n",
      " #   Column         Non-Null Count  Dtype  \n",
      "---  ------         --------------  -----  \n",
      " 0   PlayerId       100 non-null    int64  \n",
      " 1   NameFirst      100 non-null    object \n",
      " 2   NameLast       100 non-null    object \n",
      " 3   CurrentHandle  100 non-null    object \n",
      " 4   CountryCode    100 non-null    object \n",
      " 5   TotalUSDPrize  100 non-null    float64\n",
      " 6   Game           100 non-null    object \n",
      " 7   Genre          100 non-null    object \n",
      "dtypes: float64(1), int64(1), object(6)\n",
      "memory usage: 6.4+ KB\n"
     ]
    }
   ],
   "source": [
    "stratified_esports_df.info()"
   ]
  },
  {
   "cell_type": "code",
   "execution_count": 53,
   "id": "e1ed33b1-d4b2-46c7-8ed8-0fa024054863",
   "metadata": {},
   "outputs": [
    {
     "name": "stdout",
     "output_type": "stream",
     "text": [
      "The harmonic mean is 123987.91 USD prize by player.\n"
     ]
    }
   ],
   "source": [
    "har_mean3 = statistics.harmonic_mean(stratified_esports_df['TotalUSDPrize'])\n",
    "print('The harmonic mean is',round(har_mean3,2),'USD prize by player.')"
   ]
  },
  {
   "cell_type": "markdown",
   "id": "99b7a077-e4f8-45df-921f-459b6ca3e2e7",
   "metadata": {},
   "source": [
    "Interpretation: While applying stratified sampling method I've got similar value to simple sampling method."
   ]
  },
  {
   "cell_type": "markdown",
   "id": "091f1f9d-f732-4e9f-a720-f0ed6ed95b5e",
   "metadata": {},
   "source": [
    "#### SMOTE"
   ]
  },
  {
   "cell_type": "code",
   "execution_count": 54,
   "id": "bcb92ad5-3eee-46c2-8ec1-51e2910cc1ae",
   "metadata": {},
   "outputs": [],
   "source": [
    "import imblearn\n",
    "from imblearn.over_sampling import SMOTE"
   ]
  },
  {
   "cell_type": "code",
   "execution_count": 55,
   "id": "651efb03-388c-4c39-b90b-20337e44927e",
   "metadata": {},
   "outputs": [
    {
     "data": {
      "text/plain": [
       "array(['dk', 'us', 'br', 'ca', 'se', 'fr', 'sk', 'no', 'ba', 'ru', 'ua',\n",
       "       'pl', 'nl', 'ee', 'fi', 'kz', 'bg', 'cz', 'tr', 'be', 'es', 'de',\n",
       "       'gb', 'cn', 'uz', 'au', 'jo', 'lb', 'pk', 'il', 'ro', 'my', 'sg',\n",
       "       'mo', 'mk', 'ph', 'kr', 'by', 'tw', 'hr', 'hk', 'si', 'at', 'ar',\n",
       "       'ch', 'lv', 'lt', 'jp', 'mx', 'it', 'ie', 'gi', 'cu', 'vn', 'th',\n",
       "       'gr'], dtype=object)"
      ]
     },
     "execution_count": 55,
     "metadata": {},
     "output_type": "execute_result"
    }
   ],
   "source": [
    "esports_df['CountryCode'].unique()"
   ]
  },
  {
   "cell_type": "code",
   "execution_count": 56,
   "id": "f90afd5f-8948-4c48-b772-8665fcbf907a",
   "metadata": {},
   "outputs": [
    {
     "data": {
      "text/plain": [
       "CountryCode\n",
       "ar      3\n",
       "at      3\n",
       "au      5\n",
       "ba      1\n",
       "be      5\n",
       "bg      6\n",
       "br     10\n",
       "by      2\n",
       "ca     37\n",
       "ch      3\n",
       "cn    168\n",
       "cu      1\n",
       "cz      3\n",
       "de     30\n",
       "dk     36\n",
       "ee      2\n",
       "es      6\n",
       "fi     16\n",
       "fr     37\n",
       "gb     16\n",
       "gi      1\n",
       "gr      1\n",
       "hk      5\n",
       "hr      2\n",
       "ie      1\n",
       "il      2\n",
       "it      2\n",
       "jo      2\n",
       "jp      4\n",
       "kr    251\n",
       "kz      6\n",
       "lb      1\n",
       "lt      2\n",
       "lv      1\n",
       "mk      1\n",
       "mo      1\n",
       "mx      1\n",
       "my      6\n",
       "nl     10\n",
       "no     10\n",
       "ph      7\n",
       "pk      1\n",
       "pl     14\n",
       "ro      2\n",
       "ru     22\n",
       "se     45\n",
       "sg      1\n",
       "si      4\n",
       "sk      3\n",
       "th     29\n",
       "tr      4\n",
       "tw     34\n",
       "ua     12\n",
       "us    114\n",
       "uz      1\n",
       "vn      7\n",
       "dtype: int64"
      ]
     },
     "execution_count": 56,
     "metadata": {},
     "output_type": "execute_result"
    }
   ],
   "source": [
    "esports_df.groupby(['CountryCode']).size()#how many player I have by country? I will pick two countries for SMOTE"
   ]
  },
  {
   "cell_type": "markdown",
   "id": "845922d7-2dbe-454a-8eac-cf6a551d09c8",
   "metadata": {},
   "source": [
    "I will take players from South Korea - KR and China - CN because these countries has the highest number of players."
   ]
  },
  {
   "cell_type": "code",
   "execution_count": 57,
   "id": "7326b615-89bc-4808-b7ea-2b101ef4246f",
   "metadata": {},
   "outputs": [],
   "source": [
    "groupKR=esports_df[esports_df['CountryCode'] == 'kr']\n",
    "groupCN=esports_df[esports_df['CountryCode'] == 'cn']"
   ]
  },
  {
   "cell_type": "code",
   "execution_count": 58,
   "id": "a2f971e0-bf84-42ce-ad28-e23615116c07",
   "metadata": {},
   "outputs": [],
   "source": [
    "smote_esports_df = groupKR.append(groupCN,ignore_index = True)"
   ]
  },
  {
   "cell_type": "code",
   "execution_count": 59,
   "id": "94bd7fcd-9e51-4553-9805-f4c759533b0a",
   "metadata": {},
   "outputs": [
    {
     "data": {
      "text/html": [
       "<div>\n",
       "<style scoped>\n",
       "    .dataframe tbody tr th:only-of-type {\n",
       "        vertical-align: middle;\n",
       "    }\n",
       "\n",
       "    .dataframe tbody tr th {\n",
       "        vertical-align: top;\n",
       "    }\n",
       "\n",
       "    .dataframe thead th {\n",
       "        text-align: right;\n",
       "    }\n",
       "</style>\n",
       "<table border=\"1\" class=\"dataframe\">\n",
       "  <thead>\n",
       "    <tr style=\"text-align: right;\">\n",
       "      <th></th>\n",
       "      <th>PlayerId</th>\n",
       "      <th>NameFirst</th>\n",
       "      <th>NameLast</th>\n",
       "      <th>CurrentHandle</th>\n",
       "      <th>CountryCode</th>\n",
       "      <th>TotalUSDPrize</th>\n",
       "      <th>Game</th>\n",
       "      <th>Genre</th>\n",
       "    </tr>\n",
       "  </thead>\n",
       "  <tbody>\n",
       "    <tr>\n",
       "      <th>0</th>\n",
       "      <td>4885</td>\n",
       "      <td>Yong Min</td>\n",
       "      <td>Kim</td>\n",
       "      <td>Febby</td>\n",
       "      <td>kr</td>\n",
       "      <td>602221.88</td>\n",
       "      <td>Dota 2</td>\n",
       "      <td>Multiplayer Online Battle Arena</td>\n",
       "    </tr>\n",
       "    <tr>\n",
       "      <th>1</th>\n",
       "      <td>4888</td>\n",
       "      <td>Sunyeob</td>\n",
       "      <td>Kim</td>\n",
       "      <td>QO</td>\n",
       "      <td>kr</td>\n",
       "      <td>591322.79</td>\n",
       "      <td>Dota 2</td>\n",
       "      <td>Multiplayer Online Battle Arena</td>\n",
       "    </tr>\n",
       "    <tr>\n",
       "      <th>2</th>\n",
       "      <td>4883</td>\n",
       "      <td>Noah</td>\n",
       "      <td>Pyo</td>\n",
       "      <td>MP</td>\n",
       "      <td>kr</td>\n",
       "      <td>591176.77</td>\n",
       "      <td>Dota 2</td>\n",
       "      <td>Multiplayer Online Battle Arena</td>\n",
       "    </tr>\n",
       "    <tr>\n",
       "      <th>3</th>\n",
       "      <td>3832</td>\n",
       "      <td>Sang Hyeok</td>\n",
       "      <td>Lee</td>\n",
       "      <td>Faker</td>\n",
       "      <td>kr</td>\n",
       "      <td>1257615.87</td>\n",
       "      <td>League of Legends</td>\n",
       "      <td>Multiplayer Online Battle Arena</td>\n",
       "    </tr>\n",
       "    <tr>\n",
       "      <th>4</th>\n",
       "      <td>6466</td>\n",
       "      <td>Ho Seong</td>\n",
       "      <td>Lee</td>\n",
       "      <td>Duke</td>\n",
       "      <td>kr</td>\n",
       "      <td>954620.62</td>\n",
       "      <td>League of Legends</td>\n",
       "      <td>Multiplayer Online Battle Arena</td>\n",
       "    </tr>\n",
       "  </tbody>\n",
       "</table>\n",
       "</div>"
      ],
      "text/plain": [
       "   PlayerId   NameFirst NameLast CurrentHandle CountryCode  TotalUSDPrize  \\\n",
       "0      4885    Yong Min      Kim         Febby          kr      602221.88   \n",
       "1      4888     Sunyeob      Kim            QO          kr      591322.79   \n",
       "2      4883        Noah      Pyo            MP          kr      591176.77   \n",
       "3      3832  Sang Hyeok      Lee         Faker          kr     1257615.87   \n",
       "4      6466    Ho Seong      Lee          Duke          kr      954620.62   \n",
       "\n",
       "                Game                            Genre  \n",
       "0             Dota 2  Multiplayer Online Battle Arena  \n",
       "1             Dota 2  Multiplayer Online Battle Arena  \n",
       "2             Dota 2  Multiplayer Online Battle Arena  \n",
       "3  League of Legends  Multiplayer Online Battle Arena  \n",
       "4  League of Legends  Multiplayer Online Battle Arena  "
      ]
     },
     "execution_count": 59,
     "metadata": {},
     "output_type": "execute_result"
    }
   ],
   "source": [
    "smote_esports_df.head(5)"
   ]
  },
  {
   "cell_type": "code",
   "execution_count": 60,
   "id": "a0f7a675-fd1e-4287-bfd5-c83e82ee81ec",
   "metadata": {},
   "outputs": [
    {
     "data": {
      "text/html": [
       "<div>\n",
       "<style scoped>\n",
       "    .dataframe tbody tr th:only-of-type {\n",
       "        vertical-align: middle;\n",
       "    }\n",
       "\n",
       "    .dataframe tbody tr th {\n",
       "        vertical-align: top;\n",
       "    }\n",
       "\n",
       "    .dataframe thead th {\n",
       "        text-align: right;\n",
       "    }\n",
       "</style>\n",
       "<table border=\"1\" class=\"dataframe\">\n",
       "  <thead>\n",
       "    <tr style=\"text-align: right;\">\n",
       "      <th></th>\n",
       "      <th>CountryCode</th>\n",
       "      <th>TotalUSDPrize</th>\n",
       "    </tr>\n",
       "  </thead>\n",
       "  <tbody>\n",
       "    <tr>\n",
       "      <th>0</th>\n",
       "      <td>kr</td>\n",
       "      <td>602221.88</td>\n",
       "    </tr>\n",
       "    <tr>\n",
       "      <th>1</th>\n",
       "      <td>kr</td>\n",
       "      <td>591322.79</td>\n",
       "    </tr>\n",
       "    <tr>\n",
       "      <th>2</th>\n",
       "      <td>kr</td>\n",
       "      <td>591176.77</td>\n",
       "    </tr>\n",
       "    <tr>\n",
       "      <th>3</th>\n",
       "      <td>kr</td>\n",
       "      <td>1257615.87</td>\n",
       "    </tr>\n",
       "    <tr>\n",
       "      <th>4</th>\n",
       "      <td>kr</td>\n",
       "      <td>954620.62</td>\n",
       "    </tr>\n",
       "  </tbody>\n",
       "</table>\n",
       "</div>"
      ],
      "text/plain": [
       "  CountryCode  TotalUSDPrize\n",
       "0          kr      602221.88\n",
       "1          kr      591322.79\n",
       "2          kr      591176.77\n",
       "3          kr     1257615.87\n",
       "4          kr      954620.62"
      ]
     },
     "execution_count": 60,
     "metadata": {},
     "output_type": "execute_result"
    }
   ],
   "source": [
    "mod_smote_esports_df = smote_esports_df[['CountryCode','TotalUSDPrize']]\n",
    "mod_smote_esports_df.head()"
   ]
  },
  {
   "cell_type": "code",
   "execution_count": 61,
   "id": "6fa2c381-12b1-40fa-8242-e0b11ec97806",
   "metadata": {},
   "outputs": [],
   "source": [
    "pd.options.mode.chained_assignment = None\n",
    "mod_smote_esports_df['CountryCode'] = np.where((mod_smote_esports_df['CountryCode'] == 'kr'), 1, 0)"
   ]
  },
  {
   "cell_type": "code",
   "execution_count": 62,
   "id": "53ee3e84-a426-4078-86bb-8d70dc81c8ca",
   "metadata": {},
   "outputs": [
    {
     "data": {
      "text/html": [
       "<div>\n",
       "<style scoped>\n",
       "    .dataframe tbody tr th:only-of-type {\n",
       "        vertical-align: middle;\n",
       "    }\n",
       "\n",
       "    .dataframe tbody tr th {\n",
       "        vertical-align: top;\n",
       "    }\n",
       "\n",
       "    .dataframe thead th {\n",
       "        text-align: right;\n",
       "    }\n",
       "</style>\n",
       "<table border=\"1\" class=\"dataframe\">\n",
       "  <thead>\n",
       "    <tr style=\"text-align: right;\">\n",
       "      <th></th>\n",
       "      <th>CountryCode</th>\n",
       "      <th>TotalUSDPrize</th>\n",
       "    </tr>\n",
       "  </thead>\n",
       "  <tbody>\n",
       "    <tr>\n",
       "      <th>0</th>\n",
       "      <td>1</td>\n",
       "      <td>602221.88</td>\n",
       "    </tr>\n",
       "    <tr>\n",
       "      <th>1</th>\n",
       "      <td>1</td>\n",
       "      <td>591322.79</td>\n",
       "    </tr>\n",
       "    <tr>\n",
       "      <th>2</th>\n",
       "      <td>1</td>\n",
       "      <td>591176.77</td>\n",
       "    </tr>\n",
       "    <tr>\n",
       "      <th>3</th>\n",
       "      <td>1</td>\n",
       "      <td>1257615.87</td>\n",
       "    </tr>\n",
       "    <tr>\n",
       "      <th>4</th>\n",
       "      <td>1</td>\n",
       "      <td>954620.62</td>\n",
       "    </tr>\n",
       "    <tr>\n",
       "      <th>...</th>\n",
       "      <td>...</td>\n",
       "      <td>...</td>\n",
       "    </tr>\n",
       "    <tr>\n",
       "      <th>414</th>\n",
       "      <td>0</td>\n",
       "      <td>69487.73</td>\n",
       "    </tr>\n",
       "    <tr>\n",
       "      <th>415</th>\n",
       "      <td>0</td>\n",
       "      <td>68162.50</td>\n",
       "    </tr>\n",
       "    <tr>\n",
       "      <th>416</th>\n",
       "      <td>0</td>\n",
       "      <td>59309.90</td>\n",
       "    </tr>\n",
       "    <tr>\n",
       "      <th>417</th>\n",
       "      <td>0</td>\n",
       "      <td>54320.72</td>\n",
       "    </tr>\n",
       "    <tr>\n",
       "      <th>418</th>\n",
       "      <td>0</td>\n",
       "      <td>51231.70</td>\n",
       "    </tr>\n",
       "  </tbody>\n",
       "</table>\n",
       "<p>419 rows × 2 columns</p>\n",
       "</div>"
      ],
      "text/plain": [
       "     CountryCode  TotalUSDPrize\n",
       "0              1      602221.88\n",
       "1              1      591322.79\n",
       "2              1      591176.77\n",
       "3              1     1257615.87\n",
       "4              1      954620.62\n",
       "..           ...            ...\n",
       "414            0       69487.73\n",
       "415            0       68162.50\n",
       "416            0       59309.90\n",
       "417            0       54320.72\n",
       "418            0       51231.70\n",
       "\n",
       "[419 rows x 2 columns]"
      ]
     },
     "execution_count": 62,
     "metadata": {},
     "output_type": "execute_result"
    }
   ],
   "source": [
    "mod_smote_esports_df"
   ]
  },
  {
   "cell_type": "code",
   "execution_count": 63,
   "id": "d9041551-b96b-4ed4-ba55-11731b4e136c",
   "metadata": {},
   "outputs": [
    {
     "data": {
      "text/plain": [
       "1    251\n",
       "0    168\n",
       "Name: CountryCode, dtype: int64"
      ]
     },
     "execution_count": 63,
     "metadata": {},
     "output_type": "execute_result"
    }
   ],
   "source": [
    "mod_smote_esports_df['CountryCode'].value_counts()"
   ]
  },
  {
   "cell_type": "markdown",
   "id": "648267ae-a047-4e36-9080-10e9ee4caa9e",
   "metadata": {},
   "source": [
    "That means that I have 251 player from South Korea and 168 player from China. With SMOTE I will increase the values of China player to 251."
   ]
  },
  {
   "cell_type": "code",
   "execution_count": 64,
   "id": "d6984f35-c556-4f0c-bb3a-551c99edd2b7",
   "metadata": {},
   "outputs": [],
   "source": [
    "smote = SMOTE(sampling_strategy = 'minority')\n",
    "X_sm, y_sm = smote.fit_resample(mod_smote_esports_df, mod_smote_esports_df['CountryCode'])"
   ]
  },
  {
   "cell_type": "code",
   "execution_count": 65,
   "id": "8610e626-4be3-40f9-9b31-b5acac50e515",
   "metadata": {},
   "outputs": [
    {
     "data": {
      "text/plain": [
       "0    251\n",
       "1    251\n",
       "Name: CountryCode, dtype: int64"
      ]
     },
     "execution_count": 65,
     "metadata": {},
     "output_type": "execute_result"
    }
   ],
   "source": [
    "X_sm['CountryCode'].value_counts()"
   ]
  },
  {
   "cell_type": "code",
   "execution_count": 66,
   "id": "6957dbe3-b9cb-4e01-b303-998e09ccb6e0",
   "metadata": {},
   "outputs": [
    {
     "name": "stdout",
     "output_type": "stream",
     "text": [
      "The harmonic mean is 117318.15 USD prize by player in China and South Korea.\n"
     ]
    }
   ],
   "source": [
    "har_mean4 = statistics.harmonic_mean(X_sm['TotalUSDPrize'])\n",
    "print('The harmonic mean is',round(har_mean4,2),'USD prize by player in China and South Korea.')"
   ]
  },
  {
   "cell_type": "markdown",
   "id": "67eabca6-2789-4f49-b7fa-a9ad77263f87",
   "metadata": {},
   "source": [
    "## Nivell 3"
   ]
  },
  {
   "cell_type": "markdown",
   "id": "438995be-11b8-4b54-b96c-ec04de985c86",
   "metadata": {},
   "source": [
    "### Exercise 3 - Reservoir samplig"
   ]
  },
  {
   "cell_type": "markdown",
   "id": "7a5ec218-d0ee-4be4-9c76-40ea1d3a85d4",
   "metadata": {},
   "source": [
    "Process:\n",
    "- Tutorial: https://towardsdatascience.com/the-5-sampling-algorithms-every-data-scientist-need-to-know-43c7bc11d17c \n",
    "- Use for streaming, real time sampling."
   ]
  },
  {
   "cell_type": "code",
   "execution_count": 67,
   "id": "cf284749-8934-43e5-bd71-3f6685076046",
   "metadata": {},
   "outputs": [
    {
     "name": "stdout",
     "output_type": "stream",
     "text": [
      "[883148.24, 136820.0, 111540.17, 1652350.75, 1416448.64, 1087340.0, 89346.12, 348691.73, 171767.15, 127688.41, 67687.33, 964635.39, 166127.4, 75756.09, 210416.67, 164821.18, 81932.0, 157289.9, 1213576.66, 65922.73, 111871.29, 167697.53, 337832.12, 388919.99, 83622.52, 159402.36, 506099.73, 122693.28, 86881.37, 75380.4, 61350.0, 94073.0, 63634.48, 31489.38, 221752.32, 54290.66, 143908.34, 98723.19, 153763.01, 122860.21, 913084.7, 105541.2, 488379.08, 141662.54, 47602.61, 60502.6, 85243.75, 51203.24, 329318.02, 1348804.67, 1533698.67, 2002159.51, 97741.11, 119560.82, 1021000.0, 5554297.41, 133558.02, 64373.86, 36171.67, 58160.23, 228500.0, 265283.06, 91850.98, 349557.33, 90485.05, 538926.12, 182066.13, 128681.89, 265601.98, 45995.54, 75125.32, 1923774.23, 307129.97, 184811.62, 61027.02, 189482.52, 134300.51, 794627.39, 91158.55, 121255.92, 591176.77, 229850.77, 65922.73, 66730.8, 269446.78, 162017.51, 64763.4, 66517.5, 260721.09, 76346.78, 314548.25, 591271.39, 2244012.27, 86277.6, 85032.94, 57157.65, 113666.44, 1882492.98, 954620.62, 232167.42]\n"
     ]
    }
   ],
   "source": [
    "def generator(max):\n",
    "    number = 1\n",
    "    while number < max:\n",
    "        number += 1\n",
    "        yield number\n",
    "        \n",
    "stream = esports_df['TotalUSDPrize']\n",
    "\n",
    "k=100 #number of samples\n",
    "reservoir = []#list of values\n",
    "for i, element in enumerate(stream):\n",
    "    if i+1<= k:\n",
    "        reservoir.append(element)\n",
    "    else:\n",
    "        probability = k/(i+1)\n",
    "        if random.random() < probability:\n",
    "            # select item in stream and remove one of the k items already selected\n",
    "            reservoir[random.choice(range(0,k))] = element\n",
    "print(reservoir)"
   ]
  },
  {
   "cell_type": "code",
   "execution_count": 68,
   "id": "c3f9d0f3-b91c-4cec-b299-75569e1ddddc",
   "metadata": {},
   "outputs": [
    {
     "data": {
      "text/plain": [
       "100"
      ]
     },
     "execution_count": 68,
     "metadata": {},
     "output_type": "execute_result"
    }
   ],
   "source": [
    "len(reservoir)"
   ]
  },
  {
   "cell_type": "code",
   "execution_count": 69,
   "id": "bf34c7f7-16b1-4b99-8128-4249ad1676b7",
   "metadata": {},
   "outputs": [
    {
     "name": "stdout",
     "output_type": "stream",
     "text": [
      "31489.38 5554297.41\n"
     ]
    }
   ],
   "source": [
    "a = min(reservoir)\n",
    "b = max(reservoir)\n",
    "print(a, b)"
   ]
  },
  {
   "cell_type": "code",
   "execution_count": 70,
   "id": "7f826bdf-3574-4a3d-a19f-2b204c7f1c6b",
   "metadata": {},
   "outputs": [
    {
     "name": "stdout",
     "output_type": "stream",
     "text": [
      "The harmonic mean is 123246.36 USD prize by player.\n"
     ]
    }
   ],
   "source": [
    "har_mean5 = statistics.harmonic_mean(reservoir)\n",
    "print('The harmonic mean is',round(har_mean5,2),'USD prize by player.')"
   ]
  },
  {
   "cell_type": "code",
   "execution_count": 71,
   "id": "4ca9bf0a-ce5b-4549-8e9c-2266f5137257",
   "metadata": {},
   "outputs": [
    {
     "name": "stdout",
     "output_type": "stream",
     "text": [
      "Average prize by simple sampling is 129909.23 USD.\n",
      "Average prize by sistemating sampling is 122484.65 USD.\n",
      "Average prize by stratified sampling is 123987.91 USD.\n",
      "Average prize by SMOTE sampling is 117318.15 USD.\n",
      "Average prize by reservoir sampling is 123246.36 USD.\n"
     ]
    }
   ],
   "source": [
    "print('Average prize by simple sampling is', round(har_mean1,2),'USD.')\n",
    "print('Average prize by sistemating sampling is', round(har_mean2,2),'USD.')\n",
    "print('Average prize by stratified sampling is', round(har_mean3,2),'USD.')\n",
    "print('Average prize by SMOTE sampling is', round(har_mean4,2),'USD.')\n",
    "print('Average prize by reservoir sampling is', round(har_mean5,2),'USD.')"
   ]
  }
 ],
 "metadata": {
  "kernelspec": {
   "display_name": "Python 3",
   "language": "python",
   "name": "python3"
  },
  "language_info": {
   "codemirror_mode": {
    "name": "ipython",
    "version": 3
   },
   "file_extension": ".py",
   "mimetype": "text/x-python",
   "name": "python",
   "nbconvert_exporter": "python",
   "pygments_lexer": "ipython3",
   "version": "3.8.8"
  }
 },
 "nbformat": 4,
 "nbformat_minor": 5
}
