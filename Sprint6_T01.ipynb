{
 "cells": [
  {
   "cell_type": "markdown",
   "id": "9e96fa37-4e12-41d3-8d38-1d891ac24a47",
   "metadata": {
    "tags": []
   },
   "source": [
    "# Sprint 6, T01"
   ]
  },
  {
   "cell_type": "markdown",
   "id": "2e7b8cdb-558e-4344-b21e-9870e4f6598d",
   "metadata": {},
   "source": [
    "## Nivell 1"
   ]
  },
  {
   "cell_type": "markdown",
   "id": "5c26e5dd-44f0-4edd-ad8f-a1d579190ea9",
   "metadata": {},
   "source": [
    "### Execise 1 - samplig of some database with sport theme, sample random simple and sample sistematic"
   ]
  },
  {
   "cell_type": "markdown",
   "id": "1764d976-5c76-4873-9e21-03c9b71b1aa2",
   "metadata": {},
   "source": [
    "Let's analyze a dataset about earnings in esports - https://www.kaggle.com/jackdaoud/esports-earnings-for-players-teams-by-game. I will work with the amount of earnings from each player to represent the statistics about the highest earnings. I have 1000 total observations from the top 10 games on eSports."
   ]
  },
  {
   "cell_type": "code",
   "execution_count": 4,
   "id": "dd41a104-b874-4910-af9f-ec4350c10a82",
   "metadata": {},
   "outputs": [],
   "source": [
    "import numpy as np\n",
    "import pandas as pd\n",
    "import matplotlib.pyplot as plt\n",
    "import seaborn as sns\n",
    "import random\n",
    "import statistics"
   ]
  },
  {
   "cell_type": "code",
   "execution_count": null,
   "id": "91e956a8-3496-4d9e-b230-b6b4cc44090f",
   "metadata": {},
   "outputs": [],
   "source": [
    "%matplotlib inline\n",
    "from matlab import random\n",
    "from random import randint"
   ]
  },
  {
   "cell_type": "code",
   "execution_count": 5,
   "id": "6d23fd41-4cac-4f5e-b90a-097fbd106b88",
   "metadata": {},
   "outputs": [],
   "source": [
    "esports_df = pd.read_csv('highest_earning_players.csv')"
   ]
  },
  {
   "cell_type": "code",
   "execution_count": 6,
   "id": "6c8e6a03-5b33-4c2b-91b8-5fc3ea1405ed",
   "metadata": {},
   "outputs": [
    {
     "data": {
      "text/html": [
       "<div>\n",
       "<style scoped>\n",
       "    .dataframe tbody tr th:only-of-type {\n",
       "        vertical-align: middle;\n",
       "    }\n",
       "\n",
       "    .dataframe tbody tr th {\n",
       "        vertical-align: top;\n",
       "    }\n",
       "\n",
       "    .dataframe thead th {\n",
       "        text-align: right;\n",
       "    }\n",
       "</style>\n",
       "<table border=\"1\" class=\"dataframe\">\n",
       "  <thead>\n",
       "    <tr style=\"text-align: right;\">\n",
       "      <th></th>\n",
       "      <th>PlayerId</th>\n",
       "      <th>NameFirst</th>\n",
       "      <th>NameLast</th>\n",
       "      <th>CurrentHandle</th>\n",
       "      <th>CountryCode</th>\n",
       "      <th>TotalUSDPrize</th>\n",
       "      <th>Game</th>\n",
       "      <th>Genre</th>\n",
       "    </tr>\n",
       "  </thead>\n",
       "  <tbody>\n",
       "    <tr>\n",
       "      <th>0</th>\n",
       "      <td>3883</td>\n",
       "      <td>Peter</td>\n",
       "      <td>Rasmussen</td>\n",
       "      <td>dupreeh</td>\n",
       "      <td>dk</td>\n",
       "      <td>1822989.41</td>\n",
       "      <td>Counter-Strike: Global Offensive</td>\n",
       "      <td>First-Person Shooter</td>\n",
       "    </tr>\n",
       "    <tr>\n",
       "      <th>1</th>\n",
       "      <td>3679</td>\n",
       "      <td>Andreas</td>\n",
       "      <td>Højsleth</td>\n",
       "      <td>Xyp9x</td>\n",
       "      <td>dk</td>\n",
       "      <td>1799288.57</td>\n",
       "      <td>Counter-Strike: Global Offensive</td>\n",
       "      <td>First-Person Shooter</td>\n",
       "    </tr>\n",
       "    <tr>\n",
       "      <th>2</th>\n",
       "      <td>3885</td>\n",
       "      <td>Nicolai</td>\n",
       "      <td>Reedtz</td>\n",
       "      <td>dev1ce</td>\n",
       "      <td>dk</td>\n",
       "      <td>1787489.88</td>\n",
       "      <td>Counter-Strike: Global Offensive</td>\n",
       "      <td>First-Person Shooter</td>\n",
       "    </tr>\n",
       "    <tr>\n",
       "      <th>3</th>\n",
       "      <td>3672</td>\n",
       "      <td>Lukas</td>\n",
       "      <td>Rossander</td>\n",
       "      <td>gla1ve</td>\n",
       "      <td>dk</td>\n",
       "      <td>1652350.75</td>\n",
       "      <td>Counter-Strike: Global Offensive</td>\n",
       "      <td>First-Person Shooter</td>\n",
       "    </tr>\n",
       "    <tr>\n",
       "      <th>4</th>\n",
       "      <td>17800</td>\n",
       "      <td>Emil</td>\n",
       "      <td>Reif</td>\n",
       "      <td>Magisk</td>\n",
       "      <td>dk</td>\n",
       "      <td>1416448.64</td>\n",
       "      <td>Counter-Strike: Global Offensive</td>\n",
       "      <td>First-Person Shooter</td>\n",
       "    </tr>\n",
       "  </tbody>\n",
       "</table>\n",
       "</div>"
      ],
      "text/plain": [
       "   PlayerId NameFirst   NameLast CurrentHandle CountryCode  TotalUSDPrize  \\\n",
       "0      3883     Peter  Rasmussen       dupreeh          dk     1822989.41   \n",
       "1      3679   Andreas   Højsleth         Xyp9x          dk     1799288.57   \n",
       "2      3885   Nicolai     Reedtz        dev1ce          dk     1787489.88   \n",
       "3      3672     Lukas  Rossander        gla1ve          dk     1652350.75   \n",
       "4     17800      Emil       Reif        Magisk          dk     1416448.64   \n",
       "\n",
       "                               Game                 Genre  \n",
       "0  Counter-Strike: Global Offensive  First-Person Shooter  \n",
       "1  Counter-Strike: Global Offensive  First-Person Shooter  \n",
       "2  Counter-Strike: Global Offensive  First-Person Shooter  \n",
       "3  Counter-Strike: Global Offensive  First-Person Shooter  \n",
       "4  Counter-Strike: Global Offensive  First-Person Shooter  "
      ]
     },
     "execution_count": 6,
     "metadata": {},
     "output_type": "execute_result"
    }
   ],
   "source": [
    "esports_df.head(5)"
   ]
  },
  {
   "cell_type": "code",
   "execution_count": 7,
   "id": "6b46882c-e005-45c3-a15c-6293347dc40f",
   "metadata": {},
   "outputs": [
    {
     "data": {
      "text/html": [
       "<div>\n",
       "<style scoped>\n",
       "    .dataframe tbody tr th:only-of-type {\n",
       "        vertical-align: middle;\n",
       "    }\n",
       "\n",
       "    .dataframe tbody tr th {\n",
       "        vertical-align: top;\n",
       "    }\n",
       "\n",
       "    .dataframe thead th {\n",
       "        text-align: right;\n",
       "    }\n",
       "</style>\n",
       "<table border=\"1\" class=\"dataframe\">\n",
       "  <thead>\n",
       "    <tr style=\"text-align: right;\">\n",
       "      <th></th>\n",
       "      <th>PlayerId</th>\n",
       "      <th>TotalUSDPrize</th>\n",
       "    </tr>\n",
       "  </thead>\n",
       "  <tbody>\n",
       "    <tr>\n",
       "      <th>count</th>\n",
       "      <td>1000.000000</td>\n",
       "      <td>1.000000e+03</td>\n",
       "    </tr>\n",
       "    <tr>\n",
       "      <th>mean</th>\n",
       "      <td>27793.587000</td>\n",
       "      <td>3.977932e+05</td>\n",
       "    </tr>\n",
       "    <tr>\n",
       "      <th>std</th>\n",
       "      <td>22170.225194</td>\n",
       "      <td>6.908492e+05</td>\n",
       "    </tr>\n",
       "    <tr>\n",
       "      <th>min</th>\n",
       "      <td>1000.000000</td>\n",
       "      <td>2.417167e+04</td>\n",
       "    </tr>\n",
       "    <tr>\n",
       "      <th>25%</th>\n",
       "      <td>5374.500000</td>\n",
       "      <td>8.378962e+04</td>\n",
       "    </tr>\n",
       "    <tr>\n",
       "      <th>50%</th>\n",
       "      <td>23502.000000</td>\n",
       "      <td>1.683284e+05</td>\n",
       "    </tr>\n",
       "    <tr>\n",
       "      <th>75%</th>\n",
       "      <td>48127.250000</td>\n",
       "      <td>3.937352e+05</td>\n",
       "    </tr>\n",
       "    <tr>\n",
       "      <th>max</th>\n",
       "      <td>83085.000000</td>\n",
       "      <td>6.952597e+06</td>\n",
       "    </tr>\n",
       "  </tbody>\n",
       "</table>\n",
       "</div>"
      ],
      "text/plain": [
       "           PlayerId  TotalUSDPrize\n",
       "count   1000.000000   1.000000e+03\n",
       "mean   27793.587000   3.977932e+05\n",
       "std    22170.225194   6.908492e+05\n",
       "min     1000.000000   2.417167e+04\n",
       "25%     5374.500000   8.378962e+04\n",
       "50%    23502.000000   1.683284e+05\n",
       "75%    48127.250000   3.937352e+05\n",
       "max    83085.000000   6.952597e+06"
      ]
     },
     "execution_count": 7,
     "metadata": {},
     "output_type": "execute_result"
    }
   ],
   "source": [
    "esports_df.describe()"
   ]
  },
  {
   "cell_type": "markdown",
   "id": "0acb247c-b203-442b-b361-5bea1329e18c",
   "metadata": {},
   "source": [
    "#### Simple random sample"
   ]
  },
  {
   "cell_type": "markdown",
   "id": "0feb1e30-90e3-4d1c-90f9-c3429d9bda6d",
   "metadata": {},
   "source": [
    "First I will generate a simple random sample with n observations."
   ]
  },
  {
   "cell_type": "code",
   "execution_count": 7,
   "id": "1ce6c1b7-c4cd-4f0c-a41d-b283b7d64a49",
   "metadata": {},
   "outputs": [
    {
     "data": {
      "text/html": [
       "<div>\n",
       "<style scoped>\n",
       "    .dataframe tbody tr th:only-of-type {\n",
       "        vertical-align: middle;\n",
       "    }\n",
       "\n",
       "    .dataframe tbody tr th {\n",
       "        vertical-align: top;\n",
       "    }\n",
       "\n",
       "    .dataframe thead th {\n",
       "        text-align: right;\n",
       "    }\n",
       "</style>\n",
       "<table border=\"1\" class=\"dataframe\">\n",
       "  <thead>\n",
       "    <tr style=\"text-align: right;\">\n",
       "      <th></th>\n",
       "      <th>PlayerId</th>\n",
       "      <th>NameFirst</th>\n",
       "      <th>NameLast</th>\n",
       "      <th>CurrentHandle</th>\n",
       "      <th>CountryCode</th>\n",
       "      <th>TotalUSDPrize</th>\n",
       "      <th>Game</th>\n",
       "      <th>Genre</th>\n",
       "    </tr>\n",
       "  </thead>\n",
       "  <tbody>\n",
       "    <tr>\n",
       "      <th>252</th>\n",
       "      <td>41044</td>\n",
       "      <td>Tian Liang</td>\n",
       "      <td>Gao</td>\n",
       "      <td>Tian</td>\n",
       "      <td>cn</td>\n",
       "      <td>268282.03</td>\n",
       "      <td>League of Legends</td>\n",
       "      <td>Multiplayer Online Battle Arena</td>\n",
       "    </tr>\n",
       "    <tr>\n",
       "      <th>498</th>\n",
       "      <td>28443</td>\n",
       "      <td>Scott</td>\n",
       "      <td>Kennedy</td>\n",
       "      <td>Custa</td>\n",
       "      <td>au</td>\n",
       "      <td>53759.68</td>\n",
       "      <td>Overwatch</td>\n",
       "      <td>First-Person Shooter</td>\n",
       "    </tr>\n",
       "    <tr>\n",
       "      <th>302</th>\n",
       "      <td>25047</td>\n",
       "      <td>Harrison</td>\n",
       "      <td>Chang</td>\n",
       "      <td>psalm</td>\n",
       "      <td>us</td>\n",
       "      <td>1873138.80</td>\n",
       "      <td>Fortnite</td>\n",
       "      <td>Battle Royale</td>\n",
       "    </tr>\n",
       "    <tr>\n",
       "      <th>46</th>\n",
       "      <td>11483</td>\n",
       "      <td>Peter</td>\n",
       "      <td>Jarguz</td>\n",
       "      <td>stanislaw</td>\n",
       "      <td>ca</td>\n",
       "      <td>481487.38</td>\n",
       "      <td>Counter-Strike: Global Offensive</td>\n",
       "      <td>First-Person Shooter</td>\n",
       "    </tr>\n",
       "    <tr>\n",
       "      <th>356</th>\n",
       "      <td>54842</td>\n",
       "      <td>Nick</td>\n",
       "      <td>McGuire</td>\n",
       "      <td>Aspect</td>\n",
       "      <td>us</td>\n",
       "      <td>215391.67</td>\n",
       "      <td>Fortnite</td>\n",
       "      <td>Battle Royale</td>\n",
       "    </tr>\n",
       "  </tbody>\n",
       "</table>\n",
       "</div>"
      ],
      "text/plain": [
       "     PlayerId   NameFirst NameLast CurrentHandle CountryCode  TotalUSDPrize  \\\n",
       "252     41044  Tian Liang      Gao          Tian          cn      268282.03   \n",
       "498     28443       Scott  Kennedy         Custa          au       53759.68   \n",
       "302     25047    Harrison    Chang         psalm          us     1873138.80   \n",
       "46      11483       Peter   Jarguz     stanislaw          ca      481487.38   \n",
       "356     54842        Nick  McGuire        Aspect          us      215391.67   \n",
       "\n",
       "                                 Game                            Genre  \n",
       "252                 League of Legends  Multiplayer Online Battle Arena  \n",
       "498                         Overwatch             First-Person Shooter  \n",
       "302                          Fortnite                    Battle Royale  \n",
       "46   Counter-Strike: Global Offensive             First-Person Shooter  \n",
       "356                          Fortnite                    Battle Royale  "
      ]
     },
     "execution_count": 7,
     "metadata": {},
     "output_type": "execute_result"
    }
   ],
   "source": [
    "simple_esports_df = esports_df.sample(n = 100)\n",
    "simple_esports_df.head(5)"
   ]
  },
  {
   "cell_type": "code",
   "execution_count": 23,
   "id": "0559c14c-c10e-4706-bbe6-2bf051138839",
   "metadata": {},
   "outputs": [
    {
     "name": "stdout",
     "output_type": "stream",
     "text": [
      "<class 'pandas.core.frame.DataFrame'>\n",
      "Int64Index: 100 entries, 252 to 15\n",
      "Data columns (total 8 columns):\n",
      " #   Column         Non-Null Count  Dtype  \n",
      "---  ------         --------------  -----  \n",
      " 0   PlayerId       100 non-null    int64  \n",
      " 1   NameFirst      100 non-null    object \n",
      " 2   NameLast       100 non-null    object \n",
      " 3   CurrentHandle  100 non-null    object \n",
      " 4   CountryCode    100 non-null    object \n",
      " 5   TotalUSDPrize  100 non-null    float64\n",
      " 6   Game           100 non-null    object \n",
      " 7   Genre          100 non-null    object \n",
      "dtypes: float64(1), int64(1), object(6)\n",
      "memory usage: 7.0+ KB\n"
     ]
    }
   ],
   "source": [
    "simple_esports_df.info()#I want to check if I really have 100 values"
   ]
  },
  {
   "cell_type": "code",
   "execution_count": 8,
   "id": "a2bb46c5-b6af-42f1-8ee9-e1f9d3822989",
   "metadata": {},
   "outputs": [
    {
     "data": {
      "text/html": [
       "<div>\n",
       "<style scoped>\n",
       "    .dataframe tbody tr th:only-of-type {\n",
       "        vertical-align: middle;\n",
       "    }\n",
       "\n",
       "    .dataframe tbody tr th {\n",
       "        vertical-align: top;\n",
       "    }\n",
       "\n",
       "    .dataframe thead th {\n",
       "        text-align: right;\n",
       "    }\n",
       "</style>\n",
       "<table border=\"1\" class=\"dataframe\">\n",
       "  <thead>\n",
       "    <tr style=\"text-align: right;\">\n",
       "      <th></th>\n",
       "      <th>PlayerId</th>\n",
       "      <th>TotalUSDPrize</th>\n",
       "    </tr>\n",
       "  </thead>\n",
       "  <tbody>\n",
       "    <tr>\n",
       "      <th>count</th>\n",
       "      <td>100.000000</td>\n",
       "      <td>1.000000e+02</td>\n",
       "    </tr>\n",
       "    <tr>\n",
       "      <th>mean</th>\n",
       "      <td>27141.170000</td>\n",
       "      <td>4.004989e+05</td>\n",
       "    </tr>\n",
       "    <tr>\n",
       "      <th>std</th>\n",
       "      <td>21457.334855</td>\n",
       "      <td>5.135877e+05</td>\n",
       "    </tr>\n",
       "    <tr>\n",
       "      <th>min</th>\n",
       "      <td>1049.000000</td>\n",
       "      <td>2.967600e+04</td>\n",
       "    </tr>\n",
       "    <tr>\n",
       "      <th>25%</th>\n",
       "      <td>8521.750000</td>\n",
       "      <td>8.297275e+04</td>\n",
       "    </tr>\n",
       "    <tr>\n",
       "      <th>50%</th>\n",
       "      <td>21963.000000</td>\n",
       "      <td>1.654695e+05</td>\n",
       "    </tr>\n",
       "    <tr>\n",
       "      <th>75%</th>\n",
       "      <td>41733.250000</td>\n",
       "      <td>5.519888e+05</td>\n",
       "    </tr>\n",
       "    <tr>\n",
       "      <th>max</th>\n",
       "      <td>75020.000000</td>\n",
       "      <td>2.995620e+06</td>\n",
       "    </tr>\n",
       "  </tbody>\n",
       "</table>\n",
       "</div>"
      ],
      "text/plain": [
       "           PlayerId  TotalUSDPrize\n",
       "count    100.000000   1.000000e+02\n",
       "mean   27141.170000   4.004989e+05\n",
       "std    21457.334855   5.135877e+05\n",
       "min     1049.000000   2.967600e+04\n",
       "25%     8521.750000   8.297275e+04\n",
       "50%    21963.000000   1.654695e+05\n",
       "75%    41733.250000   5.519888e+05\n",
       "max    75020.000000   2.995620e+06"
      ]
     },
     "execution_count": 8,
     "metadata": {},
     "output_type": "execute_result"
    }
   ],
   "source": [
    "simple_esports_df.describe()"
   ]
  },
  {
   "cell_type": "markdown",
   "id": "2dc18a3b-4e69-42d4-ab5c-50bd6fef2def",
   "metadata": {},
   "source": [
    "Interpretation: The arithmetic mean is 400498.9 USD prize by player. For a very simple statistics it might be ok but we need to get average rate and correctly weight each data point. Let's use the harmonic mean."
   ]
  },
  {
   "cell_type": "code",
   "execution_count": 143,
   "id": "05dcf8a9-b4ef-43b7-ad36-14fddf193b18",
   "metadata": {},
   "outputs": [
    {
     "data": {
      "text/plain": [
       "130079.46524286638"
      ]
     },
     "execution_count": 143,
     "metadata": {},
     "output_type": "execute_result"
    }
   ],
   "source": [
    "har_mean1 = statistics.harmonic_mean(simple_esports_df['TotalUSDPrize'])\n",
    "har_mean1"
   ]
  },
  {
   "cell_type": "markdown",
   "id": "616f1e51-9a51-4bc9-a66e-40e09acdde1b",
   "metadata": {},
   "source": [
    "Interpretation: The harmonic mean is 130079.47 USD prize by player. It seems more fair conclusion for the average prize by player."
   ]
  },
  {
   "cell_type": "markdown",
   "id": "db0e284b-5685-4783-a725-c267b1dd883e",
   "metadata": {},
   "source": [
    "#### Sistematic sample"
   ]
  },
  {
   "cell_type": "markdown",
   "id": "850886d5-2f98-475b-899b-9ba12814c511",
   "metadata": {},
   "source": [
    "We will need a random number and step number using modulation and functions."
   ]
  },
  {
   "cell_type": "code",
   "execution_count": 39,
   "id": "8f56fdd0-fd90-4bdf-8593-5536d130f63f",
   "metadata": {},
   "outputs": [],
   "source": [
    "step_num = 10\n",
    "\n",
    "def randomNum():\n",
    "    return np.random.randint(1, 50)"
   ]
  },
  {
   "cell_type": "code",
   "execution_count": 40,
   "id": "984eddc2-e6e6-43d2-aeb5-7434a2e27f6f",
   "metadata": {},
   "outputs": [
    {
     "data": {
      "text/html": [
       "<div>\n",
       "<style scoped>\n",
       "    .dataframe tbody tr th:only-of-type {\n",
       "        vertical-align: middle;\n",
       "    }\n",
       "\n",
       "    .dataframe tbody tr th {\n",
       "        vertical-align: top;\n",
       "    }\n",
       "\n",
       "    .dataframe thead th {\n",
       "        text-align: right;\n",
       "    }\n",
       "</style>\n",
       "<table border=\"1\" class=\"dataframe\">\n",
       "  <thead>\n",
       "    <tr style=\"text-align: right;\">\n",
       "      <th></th>\n",
       "      <th>PlayerId</th>\n",
       "      <th>NameFirst</th>\n",
       "      <th>NameLast</th>\n",
       "      <th>CurrentHandle</th>\n",
       "      <th>CountryCode</th>\n",
       "      <th>TotalUSDPrize</th>\n",
       "      <th>Game</th>\n",
       "      <th>Genre</th>\n",
       "    </tr>\n",
       "  </thead>\n",
       "  <tbody>\n",
       "    <tr>\n",
       "      <th>38</th>\n",
       "      <td>4997</td>\n",
       "      <td>Paweł</td>\n",
       "      <td>Bieliński</td>\n",
       "      <td>byali</td>\n",
       "      <td>pl</td>\n",
       "      <td>574103.56</td>\n",
       "      <td>Counter-Strike: Global Offensive</td>\n",
       "      <td>First-Person Shooter</td>\n",
       "    </tr>\n",
       "    <tr>\n",
       "      <th>48</th>\n",
       "      <td>11938</td>\n",
       "      <td>Timothy</td>\n",
       "      <td>Ta</td>\n",
       "      <td>autimatic</td>\n",
       "      <td>us</td>\n",
       "      <td>449799.56</td>\n",
       "      <td>Counter-Strike: Global Offensive</td>\n",
       "      <td>First-Person Shooter</td>\n",
       "    </tr>\n",
       "    <tr>\n",
       "      <th>58</th>\n",
       "      <td>2456</td>\n",
       "      <td>Lincoln</td>\n",
       "      <td>Lau</td>\n",
       "      <td>fnx</td>\n",
       "      <td>br</td>\n",
       "      <td>387551.81</td>\n",
       "      <td>Counter-Strike: Global Offensive</td>\n",
       "      <td>First-Person Shooter</td>\n",
       "    </tr>\n",
       "    <tr>\n",
       "      <th>68</th>\n",
       "      <td>5499</td>\n",
       "      <td>Miikka</td>\n",
       "      <td>Kemppi</td>\n",
       "      <td>suNny</td>\n",
       "      <td>fi</td>\n",
       "      <td>326080.00</td>\n",
       "      <td>Counter-Strike: Global Offensive</td>\n",
       "      <td>First-Person Shooter</td>\n",
       "    </tr>\n",
       "    <tr>\n",
       "      <th>78</th>\n",
       "      <td>39608</td>\n",
       "      <td>Alexey</td>\n",
       "      <td>Golubev</td>\n",
       "      <td>Qikert</td>\n",
       "      <td>kz</td>\n",
       "      <td>275404.13</td>\n",
       "      <td>Counter-Strike: Global Offensive</td>\n",
       "      <td>First-Person Shooter</td>\n",
       "    </tr>\n",
       "  </tbody>\n",
       "</table>\n",
       "</div>"
      ],
      "text/plain": [
       "    PlayerId NameFirst   NameLast CurrentHandle CountryCode  TotalUSDPrize  \\\n",
       "38      4997     Paweł  Bieliński         byali          pl      574103.56   \n",
       "48     11938   Timothy         Ta     autimatic          us      449799.56   \n",
       "58      2456   Lincoln        Lau           fnx          br      387551.81   \n",
       "68      5499    Miikka     Kemppi         suNny          fi      326080.00   \n",
       "78     39608    Alexey    Golubev        Qikert          kz      275404.13   \n",
       "\n",
       "                                Game                 Genre  \n",
       "38  Counter-Strike: Global Offensive  First-Person Shooter  \n",
       "48  Counter-Strike: Global Offensive  First-Person Shooter  \n",
       "58  Counter-Strike: Global Offensive  First-Person Shooter  \n",
       "68  Counter-Strike: Global Offensive  First-Person Shooter  \n",
       "78  Counter-Strike: Global Offensive  First-Person Shooter  "
      ]
     },
     "execution_count": 40,
     "metadata": {},
     "output_type": "execute_result"
    }
   ],
   "source": [
    "#https://sparkbyexamples.com/pandas/pandas-select-dataframe-rows-by-index/\n",
    "#[start:stop:step]\n",
    "systematic_esports_df = esports_df[num:len(esports_df):step_num]\n",
    "systematic_esports_df.head(5)"
   ]
  },
  {
   "cell_type": "code",
   "execution_count": 41,
   "id": "6e3fbaa5-5ebc-4bda-a43a-511695107c06",
   "metadata": {},
   "outputs": [
    {
     "name": "stdout",
     "output_type": "stream",
     "text": [
      "<class 'pandas.core.frame.DataFrame'>\n",
      "RangeIndex: 97 entries, 38 to 998\n",
      "Data columns (total 8 columns):\n",
      " #   Column         Non-Null Count  Dtype  \n",
      "---  ------         --------------  -----  \n",
      " 0   PlayerId       97 non-null     int64  \n",
      " 1   NameFirst      97 non-null     object \n",
      " 2   NameLast       97 non-null     object \n",
      " 3   CurrentHandle  97 non-null     object \n",
      " 4   CountryCode    97 non-null     object \n",
      " 5   TotalUSDPrize  97 non-null     float64\n",
      " 6   Game           97 non-null     object \n",
      " 7   Genre          97 non-null     object \n",
      "dtypes: float64(1), int64(1), object(6)\n",
      "memory usage: 6.2+ KB\n"
     ]
    }
   ],
   "source": [
    "systematic_esports_df.info()"
   ]
  },
  {
   "cell_type": "markdown",
   "id": "e75e57bd-5f29-468f-87d3-f2051322e34a",
   "metadata": {},
   "source": [
    "I have only 96 entries so I would like to add the rest to get 100 entries with the same step."
   ]
  },
  {
   "cell_type": "code",
   "execution_count": 42,
   "id": "073c5792-cad0-48bb-980a-ea212d5c10d5",
   "metadata": {},
   "outputs": [
    {
     "data": {
      "text/plain": [
       "97"
      ]
     },
     "execution_count": 42,
     "metadata": {},
     "output_type": "execute_result"
    }
   ],
   "source": [
    "len(systematic_esports_df)"
   ]
  },
  {
   "cell_type": "code",
   "execution_count": 43,
   "id": "e3d4662a-5796-4a0d-82ed-adea62969496",
   "metadata": {},
   "outputs": [
    {
     "data": {
      "text/plain": [
       "3"
      ]
     },
     "execution_count": 43,
     "metadata": {},
     "output_type": "execute_result"
    }
   ],
   "source": [
    "addNum = (100 - len(systematic_esports_df))\n",
    "addNum"
   ]
  },
  {
   "cell_type": "code",
   "execution_count": 44,
   "id": "e9b1afe7-9968-4056-a9ca-df2f5344886e",
   "metadata": {},
   "outputs": [],
   "source": [
    "x = step_num - addNum\n",
    "var1 = esports_df.iloc[x]\n",
    "var2 = esports_df.iloc[x+step_num]\n",
    "var3 = esports_df.iloc[x+(2*step_num)]"
   ]
  },
  {
   "cell_type": "code",
   "execution_count": 45,
   "id": "8a25289f-125b-43cc-b909-33c3c3397731",
   "metadata": {},
   "outputs": [],
   "source": [
    "systematic_esports_df = systematic_esports_df.append(var1, ignore_index = True)\n",
    "systematic_esports_df = systematic_esports_df.append(var2, ignore_index = True)\n",
    "systematic_esports_df = systematic_esports_df.append(var3, ignore_index = True)"
   ]
  },
  {
   "cell_type": "code",
   "execution_count": 46,
   "id": "a223f2fc-5b2b-4521-b734-eadf471ecc57",
   "metadata": {},
   "outputs": [
    {
     "name": "stdout",
     "output_type": "stream",
     "text": [
      "<class 'pandas.core.frame.DataFrame'>\n",
      "RangeIndex: 100 entries, 0 to 99\n",
      "Data columns (total 8 columns):\n",
      " #   Column         Non-Null Count  Dtype  \n",
      "---  ------         --------------  -----  \n",
      " 0   PlayerId       100 non-null    int64  \n",
      " 1   NameFirst      100 non-null    object \n",
      " 2   NameLast       100 non-null    object \n",
      " 3   CurrentHandle  100 non-null    object \n",
      " 4   CountryCode    100 non-null    object \n",
      " 5   TotalUSDPrize  100 non-null    float64\n",
      " 6   Game           100 non-null    object \n",
      " 7   Genre          100 non-null    object \n",
      "dtypes: float64(1), int64(1), object(6)\n",
      "memory usage: 6.4+ KB\n"
     ]
    }
   ],
   "source": [
    "systematic_esports_df.info()"
   ]
  },
  {
   "cell_type": "markdown",
   "id": "19005548-9669-4a7a-8039-6302dca1d951",
   "metadata": {},
   "source": [
    "Now I have 100 entries and I can compare harmonic mean of two methods of sampling."
   ]
  },
  {
   "cell_type": "code",
   "execution_count": 47,
   "id": "afc8cc6b-4dc4-4130-8056-c5e085f1aea2",
   "metadata": {},
   "outputs": [
    {
     "data": {
      "text/plain": [
       "117705.22126829364"
      ]
     },
     "execution_count": 47,
     "metadata": {},
     "output_type": "execute_result"
    }
   ],
   "source": [
    "har_mean2 = statistics.harmonic_mean(systematic_esports_df['TotalUSDPrize'])\n",
    "har_mean2"
   ]
  },
  {
   "cell_type": "markdown",
   "id": "a0f355ac-a793-42f9-ba2c-f97bc4fc871c",
   "metadata": {},
   "source": [
    "Interpretation: The harmonic mean is 117705.22 USD prize by player. That means that both methods give different results."
   ]
  },
  {
   "cell_type": "markdown",
   "id": "8a9f04e4-b5e7-4b3f-a41a-132cd0654549",
   "metadata": {},
   "source": [
    "## Nivell 2"
   ]
  },
  {
   "cell_type": "markdown",
   "id": "1c5fc5c1-98c9-4ddb-88d0-55872c77070b",
   "metadata": {},
   "source": [
    "### Execise 2 - stratified random sample and SMOTE"
   ]
  },
  {
   "cell_type": "markdown",
   "id": "1387f9e0-1fea-423e-aa12-2478e674fc21",
   "metadata": {},
   "source": [
    "#### Stratified random sample"
   ]
  },
  {
   "cell_type": "markdown",
   "id": "a5af94c2-0928-4dc0-88ec-6e2c9c4b4276",
   "metadata": {},
   "source": [
    "For stratified random sample I will divide the palayer in groups by game, there are 10 games in the dataset, so I can pick 10 players form each(10%) and than I will get 100 players in total."
   ]
  },
  {
   "cell_type": "code",
   "execution_count": 44,
   "id": "197675d5-00bf-47ba-8efd-f191548d1ffe",
   "metadata": {},
   "outputs": [
    {
     "data": {
      "text/plain": [
       "Heroes of the Storm                 100\n",
       "Fortnite                            100\n",
       "Arena of Valor                      100\n",
       "Starcraft II                        100\n",
       "Dota 2                              100\n",
       "Counter-Strike: Global Offensive    100\n",
       "PUBG                                100\n",
       "Hearthstone                         100\n",
       "League of Legends                   100\n",
       "Overwatch                           100\n",
       "Name: Game, dtype: int64"
      ]
     },
     "execution_count": 44,
     "metadata": {},
     "output_type": "execute_result"
    }
   ],
   "source": [
    "esports_df['Game'].value_counts()"
   ]
  },
  {
   "cell_type": "code",
   "execution_count": 55,
   "id": "f30202d4-3392-4f5e-843d-34cd9baae43d",
   "metadata": {},
   "outputs": [],
   "source": [
    "sorted_esports_df = esports_df. sort_values(by='Game')"
   ]
  },
  {
   "cell_type": "code",
   "execution_count": 57,
   "id": "58c2145b-d351-460d-8df7-45723179b77c",
   "metadata": {},
   "outputs": [
    {
     "data": {
      "text/html": [
       "<div>\n",
       "<style scoped>\n",
       "    .dataframe tbody tr th:only-of-type {\n",
       "        vertical-align: middle;\n",
       "    }\n",
       "\n",
       "    .dataframe tbody tr th {\n",
       "        vertical-align: top;\n",
       "    }\n",
       "\n",
       "    .dataframe thead th {\n",
       "        text-align: right;\n",
       "    }\n",
       "</style>\n",
       "<table border=\"1\" class=\"dataframe\">\n",
       "  <thead>\n",
       "    <tr style=\"text-align: right;\">\n",
       "      <th></th>\n",
       "      <th>PlayerId</th>\n",
       "      <th>NameFirst</th>\n",
       "      <th>NameLast</th>\n",
       "      <th>CurrentHandle</th>\n",
       "      <th>CountryCode</th>\n",
       "      <th>TotalUSDPrize</th>\n",
       "      <th>Game</th>\n",
       "      <th>Genre</th>\n",
       "    </tr>\n",
       "  </thead>\n",
       "  <tbody>\n",
       "    <tr>\n",
       "      <th>801</th>\n",
       "      <td>60565</td>\n",
       "      <td>Guixin</td>\n",
       "      <td>Guo</td>\n",
       "      <td>NuoYan</td>\n",
       "      <td>cn</td>\n",
       "      <td>416162.04</td>\n",
       "      <td>Arena of Valor</td>\n",
       "      <td>Multiplayer Online Battle Arena</td>\n",
       "    </tr>\n",
       "    <tr>\n",
       "      <th>873</th>\n",
       "      <td>75020</td>\n",
       "      <td>Aum</td>\n",
       "      <td>Chatchanapong</td>\n",
       "      <td>Happy</td>\n",
       "      <td>th</td>\n",
       "      <td>40376.87</td>\n",
       "      <td>Arena of Valor</td>\n",
       "      <td>Multiplayer Online Battle Arena</td>\n",
       "    </tr>\n",
       "    <tr>\n",
       "      <th>872</th>\n",
       "      <td>54012</td>\n",
       "      <td>Denchai</td>\n",
       "      <td>Eampaojeen</td>\n",
       "      <td>JameCo</td>\n",
       "      <td>th</td>\n",
       "      <td>41144.36</td>\n",
       "      <td>Arena of Valor</td>\n",
       "      <td>Multiplayer Online Battle Arena</td>\n",
       "    </tr>\n",
       "    <tr>\n",
       "      <th>871</th>\n",
       "      <td>53974</td>\n",
       "      <td>-</td>\n",
       "      <td>-</td>\n",
       "      <td>Sirenia</td>\n",
       "      <td>tw</td>\n",
       "      <td>42482.43</td>\n",
       "      <td>Arena of Valor</td>\n",
       "      <td>Multiplayer Online Battle Arena</td>\n",
       "    </tr>\n",
       "    <tr>\n",
       "      <th>870</th>\n",
       "      <td>53973</td>\n",
       "      <td>-</td>\n",
       "      <td>-</td>\n",
       "      <td>Liang</td>\n",
       "      <td>tw</td>\n",
       "      <td>42482.43</td>\n",
       "      <td>Arena of Valor</td>\n",
       "      <td>Multiplayer Online Battle Arena</td>\n",
       "    </tr>\n",
       "  </tbody>\n",
       "</table>\n",
       "</div>"
      ],
      "text/plain": [
       "     PlayerId NameFirst       NameLast CurrentHandle CountryCode  \\\n",
       "801     60565    Guixin            Guo        NuoYan          cn   \n",
       "873     75020       Aum  Chatchanapong         Happy          th   \n",
       "872     54012   Denchai     Eampaojeen        JameCo          th   \n",
       "871     53974         -              -       Sirenia          tw   \n",
       "870     53973         -              -         Liang          tw   \n",
       "\n",
       "     TotalUSDPrize            Game                            Genre  \n",
       "801      416162.04  Arena of Valor  Multiplayer Online Battle Arena  \n",
       "873       40376.87  Arena of Valor  Multiplayer Online Battle Arena  \n",
       "872       41144.36  Arena of Valor  Multiplayer Online Battle Arena  \n",
       "871       42482.43  Arena of Valor  Multiplayer Online Battle Arena  \n",
       "870       42482.43  Arena of Valor  Multiplayer Online Battle Arena  "
      ]
     },
     "execution_count": 57,
     "metadata": {},
     "output_type": "execute_result"
    }
   ],
   "source": [
    "sorted_esports_df.head(5)"
   ]
  },
  {
   "cell_type": "code",
   "execution_count": 68,
   "id": "303fb690-9ba2-4ee9-9042-fd99fc4a69a1",
   "metadata": {},
   "outputs": [
    {
     "data": {
      "text/plain": [
       "array(['Arena of Valor', 'Counter-Strike: Global Offensive', 'Dota 2',\n",
       "       'Fortnite', 'Hearthstone', 'Heroes of the Storm',\n",
       "       'League of Legends', 'Overwatch', 'PUBG', 'Starcraft II'],\n",
       "      dtype=object)"
      ]
     },
     "execution_count": 68,
     "metadata": {},
     "output_type": "execute_result"
    }
   ],
   "source": [
    "sorted_esports_df['Game'].unique()"
   ]
  },
  {
   "cell_type": "code",
   "execution_count": 67,
   "id": "e66fc93b-b802-4e98-857c-573af7c13ad4",
   "metadata": {},
   "outputs": [
    {
     "name": "stdout",
     "output_type": "stream",
     "text": [
      "<class 'pandas.core.frame.DataFrame'>\n",
      "Int64Index: 100 entries, 801 to 835\n",
      "Data columns (total 8 columns):\n",
      " #   Column         Non-Null Count  Dtype  \n",
      "---  ------         --------------  -----  \n",
      " 0   PlayerId       100 non-null    int64  \n",
      " 1   NameFirst      100 non-null    object \n",
      " 2   NameLast       100 non-null    object \n",
      " 3   CurrentHandle  100 non-null    object \n",
      " 4   CountryCode    100 non-null    object \n",
      " 5   TotalUSDPrize  100 non-null    float64\n",
      " 6   Game           100 non-null    object \n",
      " 7   Genre          100 non-null    object \n",
      "dtypes: float64(1), int64(1), object(6)\n",
      "memory usage: 7.0+ KB\n"
     ]
    }
   ],
   "source": [
    "group1 = sorted_esports_df[sorted_esports_df['Game'] == 'Arena of Valor']\n",
    "group1.info()#to check if I get 100 entruies for this group, than I will apply the code for all 10 groups"
   ]
  },
  {
   "cell_type": "code",
   "execution_count": 69,
   "id": "a48b33a2-3b69-450a-a920-7495c457f6da",
   "metadata": {},
   "outputs": [],
   "source": [
    "group2=sorted_esports_df[sorted_esports_df['Game'] == 'Counter-Strike: Global Offensive'] \n",
    "group3=sorted_esports_df[sorted_esports_df['Game'] == 'Dota 2'] \n",
    "group4=sorted_esports_df[sorted_esports_df['Game'] == 'Fortnite'] \n",
    "group5=sorted_esports_df[sorted_esports_df['Game'] == 'Hearthstone'] \n",
    "group6=sorted_esports_df[sorted_esports_df['Game'] == 'Heroes of the Storm'] \n",
    "group7=sorted_esports_df[sorted_esports_df['Game'] == 'League of Legends'] \n",
    "group8=sorted_esports_df[sorted_esports_df['Game'] == 'Overwatch'] \n",
    "group9=sorted_esports_df[sorted_esports_df['Game'] == 'PUBG'] \n",
    "group10=sorted_esports_df[sorted_esports_df['Game'] == 'Starcraft II']"
   ]
  },
  {
   "cell_type": "code",
   "execution_count": 70,
   "id": "5700ea3a-174f-4542-8ccf-cefecab834d0",
   "metadata": {},
   "outputs": [],
   "source": [
    "#getting 10 entries from each group\n",
    "esports_df1 = group1.sample(n = 10)\n",
    "esports_df2 = group2.sample(n = 10)\n",
    "esports_df3 = group3.sample(n = 10)\n",
    "esports_df4 = group4.sample(n = 10)\n",
    "esports_df5 = group5.sample(n = 10)\n",
    "esports_df6 = group6.sample(n = 10)\n",
    "esports_df7 = group7.sample(n = 10)\n",
    "esports_df8 = group8.sample(n = 10)\n",
    "esports_df9 = group9.sample(n = 10)\n",
    "esports_df10 = group10.sample(n = 10)"
   ]
  },
  {
   "cell_type": "code",
   "execution_count": 72,
   "id": "5ecb550f-cacd-4abd-8a9f-05832a453637",
   "metadata": {},
   "outputs": [],
   "source": [
    "stratified_esports_df = esports_df1.append((esports_df2,\n",
    "                                            esports_df3,\n",
    "                                            esports_df4,\n",
    "                                            esports_df5,\n",
    "                                            esports_df6,\n",
    "                                            esports_df7,\n",
    "                                            esports_df8,\n",
    "                                            esports_df9,\n",
    "                                            esports_df10),ignore_index = True)"
   ]
  },
  {
   "cell_type": "code",
   "execution_count": 76,
   "id": "09ec39e7-036c-44fa-a619-6f840407ecf1",
   "metadata": {},
   "outputs": [
    {
     "name": "stdout",
     "output_type": "stream",
     "text": [
      "<class 'pandas.core.frame.DataFrame'>\n",
      "RangeIndex: 100 entries, 0 to 99\n",
      "Data columns (total 8 columns):\n",
      " #   Column         Non-Null Count  Dtype  \n",
      "---  ------         --------------  -----  \n",
      " 0   PlayerId       100 non-null    int64  \n",
      " 1   NameFirst      100 non-null    object \n",
      " 2   NameLast       100 non-null    object \n",
      " 3   CurrentHandle  100 non-null    object \n",
      " 4   CountryCode    100 non-null    object \n",
      " 5   TotalUSDPrize  100 non-null    float64\n",
      " 6   Game           100 non-null    object \n",
      " 7   Genre          100 non-null    object \n",
      "dtypes: float64(1), int64(1), object(6)\n",
      "memory usage: 6.4+ KB\n"
     ]
    }
   ],
   "source": [
    "stratified_esports_df.info()"
   ]
  },
  {
   "cell_type": "code",
   "execution_count": 145,
   "id": "e1ed33b1-d4b2-46c7-8ed8-0fa024054863",
   "metadata": {},
   "outputs": [
    {
     "data": {
      "text/plain": [
       "132956.6247256477"
      ]
     },
     "execution_count": 145,
     "metadata": {},
     "output_type": "execute_result"
    }
   ],
   "source": [
    "har_mean3 = statistics.harmonic_mean(stratified_esports_df['TotalUSDPrize'])\n",
    "har_mean3"
   ]
  },
  {
   "cell_type": "markdown",
   "id": "99b7a077-e4f8-45df-921f-459b6ca3e2e7",
   "metadata": {},
   "source": [
    "Interpretation: The harmonic mean is 132956.62 USD prize by player. That means that by applying stratifies sampling methos I got similar value to simple sampling mathod."
   ]
  },
  {
   "cell_type": "markdown",
   "id": "091f1f9d-f732-4e9f-a720-f0ed6ed95b5e",
   "metadata": {},
   "source": [
    "#### SMOTE"
   ]
  },
  {
   "cell_type": "code",
   "execution_count": 80,
   "id": "bcb92ad5-3eee-46c2-8ec1-51e2910cc1ae",
   "metadata": {},
   "outputs": [],
   "source": [
    "import imblearn\n",
    "from imblearn.over_sampling import SMOTE"
   ]
  },
  {
   "cell_type": "code",
   "execution_count": 82,
   "id": "651efb03-388c-4c39-b90b-20337e44927e",
   "metadata": {},
   "outputs": [
    {
     "data": {
      "text/plain": [
       "array(['cn', 'tw', 'vn', 'th', 'kr', 'us', 'my', 'br', 'be', 'es', 'de',\n",
       "       'tr', 'pl', 'se', 'gb', 'ca', 'sk', 'fr', 'kz', 'ru', 'fi', 'bg',\n",
       "       'uz', 'dk', 'cz', 'no', 'ee', 'nl', 'ua', 'ba', 'ph', 'mk', 'mo',\n",
       "       'jo', 'sg', 'au', 'by', 'ro', 'il', 'pk', 'lb', 'at', 'hk', 'ar',\n",
       "       'ch', 'lv', 'si', 'lt', 'jp', 'gr', 'it', 'hr', 'cu', 'gi', 'ie',\n",
       "       'mx'], dtype=object)"
      ]
     },
     "execution_count": 82,
     "metadata": {},
     "output_type": "execute_result"
    }
   ],
   "source": [
    "esports_df['CountryCode'].unique()"
   ]
  },
  {
   "cell_type": "code",
   "execution_count": 89,
   "id": "f90afd5f-8948-4c48-b772-8665fcbf907a",
   "metadata": {},
   "outputs": [
    {
     "data": {
      "text/plain": [
       "CountryCode\n",
       "ar      3\n",
       "at      3\n",
       "au      5\n",
       "ba      1\n",
       "be      5\n",
       "bg      6\n",
       "br     10\n",
       "by      2\n",
       "ca     37\n",
       "ch      3\n",
       "cn    168\n",
       "cu      1\n",
       "cz      3\n",
       "de     30\n",
       "dk     36\n",
       "ee      2\n",
       "es      6\n",
       "fi     16\n",
       "fr     37\n",
       "gb     16\n",
       "gi      1\n",
       "gr      1\n",
       "hk      5\n",
       "hr      2\n",
       "ie      1\n",
       "il      2\n",
       "it      2\n",
       "jo      2\n",
       "jp      4\n",
       "kr    251\n",
       "kz      6\n",
       "lb      1\n",
       "lt      2\n",
       "lv      1\n",
       "mk      1\n",
       "mo      1\n",
       "mx      1\n",
       "my      6\n",
       "nl     10\n",
       "no     10\n",
       "ph      7\n",
       "pk      1\n",
       "pl     14\n",
       "ro      2\n",
       "ru     22\n",
       "se     45\n",
       "sg      1\n",
       "si      4\n",
       "sk      3\n",
       "th     29\n",
       "tr      4\n",
       "tw     34\n",
       "ua     12\n",
       "us    114\n",
       "uz      1\n",
       "vn      7\n",
       "dtype: int64"
      ]
     },
     "execution_count": 89,
     "metadata": {},
     "output_type": "execute_result"
    }
   ],
   "source": [
    "esports_df.groupby(['CountryCode']).size()#how many player I have by country? I will pick two countries for SMOTE"
   ]
  },
  {
   "cell_type": "markdown",
   "id": "845922d7-2dbe-454a-8eac-cf6a551d09c8",
   "metadata": {},
   "source": [
    "I will take players from South Korea - KR and China - CN because these countries has the highest number of players."
   ]
  },
  {
   "cell_type": "code",
   "execution_count": 95,
   "id": "7326b615-89bc-4808-b7ea-2b101ef4246f",
   "metadata": {},
   "outputs": [],
   "source": [
    "groupKR=esports_df[esports_df['CountryCode'] == 'kr']\n",
    "groupCN=esports_df[esports_df['CountryCode'] == 'cn']"
   ]
  },
  {
   "cell_type": "code",
   "execution_count": 96,
   "id": "a2f971e0-bf84-42ce-ad28-e23615116c07",
   "metadata": {},
   "outputs": [],
   "source": [
    "smote_esports_df = groupKR.append(groupCN,ignore_index = True)"
   ]
  },
  {
   "cell_type": "code",
   "execution_count": 98,
   "id": "94bd7fcd-9e51-4553-9805-f4c759533b0a",
   "metadata": {},
   "outputs": [
    {
     "data": {
      "text/html": [
       "<div>\n",
       "<style scoped>\n",
       "    .dataframe tbody tr th:only-of-type {\n",
       "        vertical-align: middle;\n",
       "    }\n",
       "\n",
       "    .dataframe tbody tr th {\n",
       "        vertical-align: top;\n",
       "    }\n",
       "\n",
       "    .dataframe thead th {\n",
       "        text-align: right;\n",
       "    }\n",
       "</style>\n",
       "<table border=\"1\" class=\"dataframe\">\n",
       "  <thead>\n",
       "    <tr style=\"text-align: right;\">\n",
       "      <th></th>\n",
       "      <th>PlayerId</th>\n",
       "      <th>NameFirst</th>\n",
       "      <th>NameLast</th>\n",
       "      <th>CurrentHandle</th>\n",
       "      <th>CountryCode</th>\n",
       "      <th>TotalUSDPrize</th>\n",
       "      <th>Game</th>\n",
       "      <th>Genre</th>\n",
       "    </tr>\n",
       "  </thead>\n",
       "  <tbody>\n",
       "    <tr>\n",
       "      <th>0</th>\n",
       "      <td>53998</td>\n",
       "      <td>Chang Hoon</td>\n",
       "      <td>Shin</td>\n",
       "      <td>JJak</td>\n",
       "      <td>kr</td>\n",
       "      <td>122650.01</td>\n",
       "      <td>Arena of Valor</td>\n",
       "      <td>Multiplayer Online Battle Arena</td>\n",
       "    </tr>\n",
       "    <tr>\n",
       "      <th>1</th>\n",
       "      <td>53996</td>\n",
       "      <td>Ho Yeon</td>\n",
       "      <td>Lee</td>\n",
       "      <td>Rush</td>\n",
       "      <td>kr</td>\n",
       "      <td>117894.70</td>\n",
       "      <td>Arena of Valor</td>\n",
       "      <td>Multiplayer Online Battle Arena</td>\n",
       "    </tr>\n",
       "    <tr>\n",
       "      <th>2</th>\n",
       "      <td>53999</td>\n",
       "      <td>Do Yeop</td>\n",
       "      <td>Kim</td>\n",
       "      <td>HAK</td>\n",
       "      <td>kr</td>\n",
       "      <td>111710.36</td>\n",
       "      <td>Arena of Valor</td>\n",
       "      <td>Multiplayer Online Battle Arena</td>\n",
       "    </tr>\n",
       "    <tr>\n",
       "      <th>3</th>\n",
       "      <td>53995</td>\n",
       "      <td>Sun Woo</td>\n",
       "      <td>Kim</td>\n",
       "      <td>Sun</td>\n",
       "      <td>kr</td>\n",
       "      <td>111582.45</td>\n",
       "      <td>Arena of Valor</td>\n",
       "      <td>Multiplayer Online Battle Arena</td>\n",
       "    </tr>\n",
       "    <tr>\n",
       "      <th>4</th>\n",
       "      <td>53997</td>\n",
       "      <td>Hyung Min</td>\n",
       "      <td>Kim</td>\n",
       "      <td>Chaser</td>\n",
       "      <td>kr</td>\n",
       "      <td>71604.67</td>\n",
       "      <td>Arena of Valor</td>\n",
       "      <td>Multiplayer Online Battle Arena</td>\n",
       "    </tr>\n",
       "  </tbody>\n",
       "</table>\n",
       "</div>"
      ],
      "text/plain": [
       "   PlayerId   NameFirst NameLast CurrentHandle CountryCode  TotalUSDPrize  \\\n",
       "0     53998  Chang Hoon     Shin          JJak          kr      122650.01   \n",
       "1     53996     Ho Yeon      Lee          Rush          kr      117894.70   \n",
       "2     53999     Do Yeop      Kim           HAK          kr      111710.36   \n",
       "3     53995     Sun Woo      Kim           Sun          kr      111582.45   \n",
       "4     53997   Hyung Min      Kim        Chaser          kr       71604.67   \n",
       "\n",
       "             Game                            Genre  \n",
       "0  Arena of Valor  Multiplayer Online Battle Arena  \n",
       "1  Arena of Valor  Multiplayer Online Battle Arena  \n",
       "2  Arena of Valor  Multiplayer Online Battle Arena  \n",
       "3  Arena of Valor  Multiplayer Online Battle Arena  \n",
       "4  Arena of Valor  Multiplayer Online Battle Arena  "
      ]
     },
     "execution_count": 98,
     "metadata": {},
     "output_type": "execute_result"
    }
   ],
   "source": [
    "smote_esports_df.head(5)"
   ]
  },
  {
   "cell_type": "code",
   "execution_count": 130,
   "id": "a0f7a675-fd1e-4287-bfd5-c83e82ee81ec",
   "metadata": {},
   "outputs": [
    {
     "data": {
      "text/html": [
       "<div>\n",
       "<style scoped>\n",
       "    .dataframe tbody tr th:only-of-type {\n",
       "        vertical-align: middle;\n",
       "    }\n",
       "\n",
       "    .dataframe tbody tr th {\n",
       "        vertical-align: top;\n",
       "    }\n",
       "\n",
       "    .dataframe thead th {\n",
       "        text-align: right;\n",
       "    }\n",
       "</style>\n",
       "<table border=\"1\" class=\"dataframe\">\n",
       "  <thead>\n",
       "    <tr style=\"text-align: right;\">\n",
       "      <th></th>\n",
       "      <th>CountryCode</th>\n",
       "      <th>TotalUSDPrize</th>\n",
       "    </tr>\n",
       "  </thead>\n",
       "  <tbody>\n",
       "    <tr>\n",
       "      <th>0</th>\n",
       "      <td>kr</td>\n",
       "      <td>122650.01</td>\n",
       "    </tr>\n",
       "    <tr>\n",
       "      <th>1</th>\n",
       "      <td>kr</td>\n",
       "      <td>117894.70</td>\n",
       "    </tr>\n",
       "    <tr>\n",
       "      <th>2</th>\n",
       "      <td>kr</td>\n",
       "      <td>111710.36</td>\n",
       "    </tr>\n",
       "    <tr>\n",
       "      <th>3</th>\n",
       "      <td>kr</td>\n",
       "      <td>111582.45</td>\n",
       "    </tr>\n",
       "    <tr>\n",
       "      <th>4</th>\n",
       "      <td>kr</td>\n",
       "      <td>71604.67</td>\n",
       "    </tr>\n",
       "  </tbody>\n",
       "</table>\n",
       "</div>"
      ],
      "text/plain": [
       "  CountryCode  TotalUSDPrize\n",
       "0          kr      122650.01\n",
       "1          kr      117894.70\n",
       "2          kr      111710.36\n",
       "3          kr      111582.45\n",
       "4          kr       71604.67"
      ]
     },
     "execution_count": 130,
     "metadata": {},
     "output_type": "execute_result"
    }
   ],
   "source": [
    "mod_smote_esports_df = smote_esports_df[['CountryCode','TotalUSDPrize']]\n",
    "mod_smote_esports_df.head()"
   ]
  },
  {
   "cell_type": "code",
   "execution_count": 131,
   "id": "6fa2c381-12b1-40fa-8242-e0b11ec97806",
   "metadata": {},
   "outputs": [],
   "source": [
    "pd.options.mode.chained_assignment = None\n",
    "mod_smote_esports_df['CountryCode'] = np.where((mod_smote_esports_df['CountryCode'] == 'kr'), 1, 0)"
   ]
  },
  {
   "cell_type": "code",
   "execution_count": 132,
   "id": "53ee3e84-a426-4078-86bb-8d70dc81c8ca",
   "metadata": {},
   "outputs": [
    {
     "data": {
      "text/html": [
       "<div>\n",
       "<style scoped>\n",
       "    .dataframe tbody tr th:only-of-type {\n",
       "        vertical-align: middle;\n",
       "    }\n",
       "\n",
       "    .dataframe tbody tr th {\n",
       "        vertical-align: top;\n",
       "    }\n",
       "\n",
       "    .dataframe thead th {\n",
       "        text-align: right;\n",
       "    }\n",
       "</style>\n",
       "<table border=\"1\" class=\"dataframe\">\n",
       "  <thead>\n",
       "    <tr style=\"text-align: right;\">\n",
       "      <th></th>\n",
       "      <th>CountryCode</th>\n",
       "      <th>TotalUSDPrize</th>\n",
       "    </tr>\n",
       "  </thead>\n",
       "  <tbody>\n",
       "    <tr>\n",
       "      <th>0</th>\n",
       "      <td>1</td>\n",
       "      <td>122650.01</td>\n",
       "    </tr>\n",
       "    <tr>\n",
       "      <th>1</th>\n",
       "      <td>1</td>\n",
       "      <td>117894.70</td>\n",
       "    </tr>\n",
       "    <tr>\n",
       "      <th>2</th>\n",
       "      <td>1</td>\n",
       "      <td>111710.36</td>\n",
       "    </tr>\n",
       "    <tr>\n",
       "      <th>3</th>\n",
       "      <td>1</td>\n",
       "      <td>111582.45</td>\n",
       "    </tr>\n",
       "    <tr>\n",
       "      <th>4</th>\n",
       "      <td>1</td>\n",
       "      <td>71604.67</td>\n",
       "    </tr>\n",
       "    <tr>\n",
       "      <th>...</th>\n",
       "      <td>...</td>\n",
       "      <td>...</td>\n",
       "    </tr>\n",
       "    <tr>\n",
       "      <th>414</th>\n",
       "      <td>0</td>\n",
       "      <td>125173.05</td>\n",
       "    </tr>\n",
       "    <tr>\n",
       "      <th>415</th>\n",
       "      <td>0</td>\n",
       "      <td>142369.56</td>\n",
       "    </tr>\n",
       "    <tr>\n",
       "      <th>416</th>\n",
       "      <td>0</td>\n",
       "      <td>184811.62</td>\n",
       "    </tr>\n",
       "    <tr>\n",
       "      <th>417</th>\n",
       "      <td>0</td>\n",
       "      <td>134300.51</td>\n",
       "    </tr>\n",
       "    <tr>\n",
       "      <th>418</th>\n",
       "      <td>0</td>\n",
       "      <td>172891.85</td>\n",
       "    </tr>\n",
       "  </tbody>\n",
       "</table>\n",
       "<p>419 rows × 2 columns</p>\n",
       "</div>"
      ],
      "text/plain": [
       "     CountryCode  TotalUSDPrize\n",
       "0              1      122650.01\n",
       "1              1      117894.70\n",
       "2              1      111710.36\n",
       "3              1      111582.45\n",
       "4              1       71604.67\n",
       "..           ...            ...\n",
       "414            0      125173.05\n",
       "415            0      142369.56\n",
       "416            0      184811.62\n",
       "417            0      134300.51\n",
       "418            0      172891.85\n",
       "\n",
       "[419 rows x 2 columns]"
      ]
     },
     "execution_count": 132,
     "metadata": {},
     "output_type": "execute_result"
    }
   ],
   "source": [
    "mod_smote_esports_df"
   ]
  },
  {
   "cell_type": "code",
   "execution_count": 133,
   "id": "d9041551-b96b-4ed4-ba55-11731b4e136c",
   "metadata": {},
   "outputs": [
    {
     "data": {
      "text/plain": [
       "1    251\n",
       "0    168\n",
       "Name: CountryCode, dtype: int64"
      ]
     },
     "execution_count": 133,
     "metadata": {},
     "output_type": "execute_result"
    }
   ],
   "source": [
    "mod_smote_esports_df['CountryCode'].value_counts()"
   ]
  },
  {
   "cell_type": "markdown",
   "id": "648267ae-a047-4e36-9080-10e9ee4caa9e",
   "metadata": {},
   "source": [
    "That means that I have 251 player from South Korea and 168 player from China. With SMOTE I will increase the values of China player to 251."
   ]
  },
  {
   "cell_type": "code",
   "execution_count": 134,
   "id": "d6984f35-c556-4f0c-bb3a-551c99edd2b7",
   "metadata": {},
   "outputs": [],
   "source": [
    "smote = SMOTE(sampling_strategy = 'minority')\n",
    "X_sm, y_sm = smote.fit_resample(mod_smote_esports_df, mod_smote_esports_df['CountryCode'])"
   ]
  },
  {
   "cell_type": "code",
   "execution_count": 136,
   "id": "8610e626-4be3-40f9-9b31-b5acac50e515",
   "metadata": {},
   "outputs": [
    {
     "data": {
      "text/plain": [
       "0    251\n",
       "1    251\n",
       "Name: CountryCode, dtype: int64"
      ]
     },
     "execution_count": 136,
     "metadata": {},
     "output_type": "execute_result"
    }
   ],
   "source": [
    "X_sm['CountryCode'].value_counts()"
   ]
  },
  {
   "cell_type": "code",
   "execution_count": 146,
   "id": "6957dbe3-b9cb-4e01-b303-998e09ccb6e0",
   "metadata": {},
   "outputs": [
    {
     "data": {
      "text/plain": [
       "114032.44263264671"
      ]
     },
     "execution_count": 146,
     "metadata": {},
     "output_type": "execute_result"
    }
   ],
   "source": [
    "har_mean4 = statistics.harmonic_mean(X_sm['TotalUSDPrize'])\n",
    "har_mean4"
   ]
  },
  {
   "cell_type": "markdown",
   "id": "5fb1f81c-e670-48b3-9eea-cc4108dba79b",
   "metadata": {},
   "source": [
    "Interpretation: the average prize of Soouth Korea and China players is lower than the average prize of player from all countries."
   ]
  },
  {
   "cell_type": "markdown",
   "id": "67eabca6-2789-4f49-b7fa-a9ad77263f87",
   "metadata": {},
   "source": [
    "## Nivell 3"
   ]
  },
  {
   "cell_type": "markdown",
   "id": "438995be-11b8-4b54-b96c-ec04de985c86",
   "metadata": {},
   "source": [
    "### Execise 3 - Reservoir samplig"
   ]
  },
  {
   "cell_type": "markdown",
   "id": "7a5ec218-d0ee-4be4-9c76-40ea1d3a85d4",
   "metadata": {},
   "source": [
    "I'm using the strategy from https://towardsdatascience.com/the-5-sampling-algorithms-every-data-scientist-need-to-know-43c7bc11d17c"
   ]
  },
  {
   "cell_type": "code",
   "execution_count": 49,
   "id": "cf284749-8934-43e5-bd71-3f6685076046",
   "metadata": {},
   "outputs": [
    {
     "name": "stdout",
     "output_type": "stream",
     "text": [
      "[89725.4, 133558.02, 1778125.61, 1652350.75, 1416448.64, 47973.61, 74885.91, 172583.33, 159650.52, 591271.39, 250580.01, 964635.39, 85535.96, 296734.75, 112482.56, 298622.85, 933853.71, 106288.65, 835376.43, 58710.01, 164025.25, 133917.25, 106462.18, 118657.27, 164396.18, 538926.12, 360841.67, 297730.97, 193787.59, 360093.52, 205477.15, 82032.82, 64140.31, 70255.34, 153116.49, 38892.33, 94813.8, 77723.5, 2864004.17, 1882492.98, 414258.4, 65922.73, 310008.33, 111579.95, 1272450.74, 54159.21, 2007841.6, 228500.0, 449799.56, 1873138.8, 51663.14, 171767.15, 417465.86, 204049.56, 138012.28, 106225.0, 168959.28, 488379.08, 206587.79, 89529.34, 1109880.47, 293345.18, 437975.0, 616412.36, 89214.8, 135217.79, 86588.9, 74175.89, 150900.0, 58295.94, 1202225.88, 63634.48, 775574.81, 134800.0, 347699.25, 61228.35, 284845.29, 165169.85, 189265.81, 56726.85, 167442.47, 1081544.74, 2551657.34, 131670.38, 156959.11, 84196.0, 217500.0, 90439.44, 615626.39, 1126345.35, 75125.32, 65922.73, 153868.98, 6952596.58, 52978.13, 183976.33, 48617.5, 594922.51, 94856.43, 50449.6]\n"
     ]
    }
   ],
   "source": [
    "def generator(max):\n",
    "    number = 1\n",
    "    while number < max:\n",
    "        number += 1\n",
    "        yield number\n",
    "        \n",
    "stream = esports_df['TotalUSDPrize']\n",
    "\n",
    "k=100 #number of samples\n",
    "reservoir = []#list of values\n",
    "for i, element in enumerate(stream):\n",
    "    if i+1<= k:\n",
    "        reservoir.append(element)\n",
    "    else:\n",
    "        probability = k/(i+1)\n",
    "        if random.random() < probability:\n",
    "            # select item in stream and remove one of the k items already selected\n",
    "            reservoir[random.choice(range(0,k))] = element\n",
    "print(reservoir)"
   ]
  },
  {
   "cell_type": "code",
   "execution_count": 140,
   "id": "c3f9d0f3-b91c-4cec-b299-75569e1ddddc",
   "metadata": {},
   "outputs": [
    {
     "data": {
      "text/plain": [
       "100"
      ]
     },
     "execution_count": 140,
     "metadata": {},
     "output_type": "execute_result"
    }
   ],
   "source": [
    "len(reservoir)"
   ]
  },
  {
   "cell_type": "code",
   "execution_count": 50,
   "id": "bf34c7f7-16b1-4b99-8128-4249ad1676b7",
   "metadata": {},
   "outputs": [
    {
     "name": "stdout",
     "output_type": "stream",
     "text": [
      "38892.33 6952596.58\n"
     ]
    }
   ],
   "source": [
    "a = min(reservoir)\n",
    "b = max(reservoir)\n",
    "print(a, b)"
   ]
  },
  {
   "cell_type": "code",
   "execution_count": 147,
   "id": "7f826bdf-3574-4a3d-a19f-2b204c7f1c6b",
   "metadata": {},
   "outputs": [
    {
     "data": {
      "text/plain": [
       "120491.53536710396"
      ]
     },
     "execution_count": 147,
     "metadata": {},
     "output_type": "execute_result"
    }
   ],
   "source": [
    "har_mean5 = statistics.harmonic_mean(reservoir)\n",
    "har_mean5"
   ]
  },
  {
   "cell_type": "markdown",
   "id": "f93a834d-10f4-4687-a89d-6e77da1c7189",
   "metadata": {},
   "source": [
    "Interpretation: the average prize 120491.53 might be the most correct answer because it's close to the value from simple sampling and pointing toward higher values seen with stratified method."
   ]
  },
  {
   "cell_type": "code",
   "execution_count": 149,
   "id": "4ca9bf0a-ce5b-4549-8e9c-2266f5137257",
   "metadata": {},
   "outputs": [
    {
     "name": "stdout",
     "output_type": "stream",
     "text": [
      "Average prize by simple sampling is 130079.46524286638\n",
      "Average prize by sistemating sampling is 119455.27635236355\n",
      "Average prize by stratified sampling is 132956.6247256477\n",
      "Average prize by SMOTE sampling is 114032.44263264671\n",
      "Average prize by reservoir sampling is 120491.53536710396\n"
     ]
    }
   ],
   "source": [
    "print('Average prize by simple sampling is', har_mean1)\n",
    "print('Average prize by sistemating sampling is', har_mean2)\n",
    "print('Average prize by stratified sampling is', har_mean3)\n",
    "print('Average prize by SMOTE sampling is', har_mean4)\n",
    "print('Average prize by reservoir sampling is', har_mean5)"
   ]
  }
 ],
 "metadata": {
  "kernelspec": {
   "display_name": "Python 3",
   "language": "python",
   "name": "python3"
  },
  "language_info": {
   "codemirror_mode": {
    "name": "ipython",
    "version": 3
   },
   "file_extension": ".py",
   "mimetype": "text/x-python",
   "name": "python",
   "nbconvert_exporter": "python",
   "pygments_lexer": "ipython3",
   "version": "3.8.8"
  }
 },
 "nbformat": 4,
 "nbformat_minor": 5
}
